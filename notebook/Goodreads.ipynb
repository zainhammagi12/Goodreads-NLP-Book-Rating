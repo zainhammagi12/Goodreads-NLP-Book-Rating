{
  "cells": [
    {
      "cell_type": "code",
      "execution_count": null,
      "metadata": {
        "colab": {
          "base_uri": "https://localhost:8080/"
        },
        "id": "QO8l0bflEbcw",
        "outputId": "59e98333-7436-4268-bda5-5f6b435694f0"
      },
      "outputs": [
        {
          "output_type": "stream",
          "name": "stdout",
          "text": [
            "                                  user_id    book_id  \\\n",
            "0       1da3dcc13cf360b9ecb06251e86237535  182091851   \n",
            "1       1ae436441b6153473ef907aed1006a159    1451461   \n",
            "2       1aa5e9d859b0c0737f4b99a07edf19c88   13483572   \n",
            "3       1940c22aba67c3d49ccd37891c52c9f51  131585171   \n",
            "4       15e03534fccd0e7e1849d712ab9e44342  195643271   \n",
            "...                                   ...        ...   \n",
            "699995  1e40a946995fb1c851b4337d7c3326d0a  137889043   \n",
            "699996  1eeee696a17b2113a5733f5bc1361717d   18920506   \n",
            "699997  1121fa5da3a024775c2d6b3cf4b4098f8  144000061   \n",
            "699998  14761ca19cf5e6ec4d6cea2e9bdae8eed  163023491   \n",
            "699999  1cf32f3e040dc59913c44a5f14780e9d5   11759699   \n",
            "\n",
            "                                review_id  rating  \\\n",
            "0       1c949b5dedf860514ec8b97ad158c9f4f       5   \n",
            "1       112ee86a20d7e4308c0a054f8b03128cd       5   \n",
            "2       1253729b67f301b75a0f26e85f6d6fb31       5   \n",
            "3       1ae0005e94dce0dc5c18d6ae2b4a329ab       4   \n",
            "4       1d8357d2abdcc656635c5459c1feec761       3   \n",
            "...                                   ...     ...   \n",
            "699995  1fb1ef6a5dc6c41b7915907b28b569ac6       4   \n",
            "699996  1496c6c752fa2cd723e911edfe0a06d89       5   \n",
            "699997  13442e5130b646b54af1928cffde23160       5   \n",
            "699998  1ea2879877be71e442ad3ee6d98fbe48a       4   \n",
            "699999  125d4428c76ff4ebf12ef7c055603d1bd       5   \n",
            "\n",
            "                                              review_text  \\\n",
            "0       I thought this was a very good historical fant...   \n",
            "1       I've had this book recommended to me more than...   \n",
            "2       Seriously! You go and throw that twist into th...   \n",
            "3       Gosh!!! I'm still not recovering from the effi...   \n",
            "4       3.5 stars rounded down. I can't help it, I jus...   \n",
            "...                                                   ...   \n",
            "699995  Beauty of the Beast is a slow-burn romance tha...   \n",
            "699996  I absolutely hate cliffhangers! \\n Dreamfever ...   \n",
            "699997                                 Actual rating: 4.5   \n",
            "699998  ** spoiler alert ** \\n 4.0/5 \\n Predictable. \\...   \n",
            "699999  What a fantastic novel. I am not a gamer (the ...   \n",
            "\n",
            "                            date_added                    date_updated  \\\n",
            "0       Fri Feb 01 16:44:16 -0800 2013  Tue Oct 25 18:49:25 -0700 2016   \n",
            "1       Sun Nov 08 12:10:16 -0800 2015  Sun Nov 08 12:24:59 -0800 2015   \n",
            "2       Wed Oct 10 02:07:19 -0700 2012  Sat Apr 27 00:40:19 -0700 2013   \n",
            "3       Thu Dec 05 00:45:29 -0800 2013  Thu Dec 05 00:50:17 -0800 2013   \n",
            "4       Wed Mar 15 18:08:14 -0700 2017  Wed Jul 05 12:55:32 -0700 2017   \n",
            "...                                ...                             ...   \n",
            "699995  Tue Jul 04 05:47:24 -0700 2017  Fri Jul 14 01:38:53 -0700 2017   \n",
            "699996  Fri Jan 28 08:34:08 -0800 2011  Wed Apr 06 07:00:15 -0700 2011   \n",
            "699997  Fri Aug 21 14:26:36 -0700 2015  Thu Sep 03 04:23:45 -0700 2015   \n",
            "699998  Wed Jan 01 20:40:03 -0800 2014  Wed Feb 04 14:20:55 -0800 2015   \n",
            "699999  Tue Sep 06 12:17:30 -0700 2011  Sat Sep 10 17:42:22 -0700 2011   \n",
            "\n",
            "                               read_at                      started_at  \\\n",
            "0       Sat May 04 00:00:00 -0700 2013  Thu Apr 25 00:00:00 -0700 2013   \n",
            "1       Tue May 05 00:00:00 -0700 2015  Sun May 03 00:00:00 -0700 2015   \n",
            "2       Sat Apr 27 00:40:19 -0700 2013  Thu Apr 25 00:00:00 -0700 2013   \n",
            "3       Thu Dec 05 00:50:17 -0800 2013  Wed Dec 04 00:00:00 -0800 2013   \n",
            "4       Wed Apr 12 12:17:07 -0700 2017  Tue Apr 11 00:00:00 -0700 2017   \n",
            "...                                ...                             ...   \n",
            "699995  Wed Jul 05 23:12:46 -0700 2017                             NaN   \n",
            "699996  Wed Apr 06 00:00:00 -0700 2011  Tue Apr 05 00:00:00 -0700 2011   \n",
            "699997  Wed Aug 26 03:55:30 -0700 2015  Sat Aug 22 00:00:00 -0700 2015   \n",
            "699998  Wed Jul 30 00:00:00 -0700 2014  Tue Jul 29 00:00:00 -0700 2014   \n",
            "699999  Sat Sep 10 00:00:00 -0700 2011  Tue Sep 06 00:00:00 -0700 2011   \n",
            "\n",
            "        n_votes  n_comments  \n",
            "0             5           6  \n",
            "1             0           0  \n",
            "2             0           0  \n",
            "3             5           0  \n",
            "4             0           0  \n",
            "...         ...         ...  \n",
            "699995        0           0  \n",
            "699996        0           0  \n",
            "699997        2           0  \n",
            "699998        0           0  \n",
            "699999        1           0  \n",
            "\n",
            "[700000 rows x 11 columns]\n"
          ]
        }
      ],
      "source": [
        "import os #os module lets you use functions dependent on the operating system\n",
        "import time #time module lets you use functions related to time\n",
        "import datetime #datetime module provides functions that help manipulate time and date\n",
        "import numpy as np #numpy is used to perform mathematical operations\n",
        "import pandas as pd #pandas library is used for data manipuulation\n",
        "\n",
        "import matplotlib.pyplot as plt #matplot is used to create plots\n",
        "import sklearn #is a library that provides a wide selection of tools and models for machine learning  \n",
        "\n",
        "import tensorflow as tf #tensorflow is a framework used \n",
        "from tensorflow import keras #keras is an high level API from tensorflow used for developing ML solutions\n",
        "\n",
        "from functools import partial #partial is a library used to create partial functions\n",
        "import seaborn as sns #seaborn is a library used for making statistical graphics\n",
        "\n",
        "from tensorflow.keras.preprocessing.image import ImageDataGenerator #allows the model to receive new variations of the image at each epoch\n",
        "from tensorflow.keras.layers import Dense, Input, Dropout,Flatten, Conv2D #importing layers from keras\n",
        "from tensorflow.keras.layers import BatchNormalization, Activation, MaxPooling2D #importing layers from keras\n",
        "from tensorflow.keras.models import Model, Sequential #importing models from keras\n",
        "from tensorflow.keras.optimizers import Adam #Adam optimiser is a speculative gradient descent method\n",
        "from tensorflow.keras.callbacks import ModelCheckpoint, ReduceLROnPlateau #modelcheckpoint is a model used to define the checkpoints of a model. ReduceLROnPlateau is used to reduce learning rate when metric stops improving\n",
        "from tensorflow.keras.utils import plot_model #plot_model is used to create various plot types\n",
        "from keras.models import Sequential #sequential is a model used when there is exactly one input and one output\n",
        "from keras.layers import Dense, Activation, Convolution2D, Reshape, Flatten, MaxPooling2D, Dropout #importing layers from keras\n",
        "from keras.utils import np_utils #importing the utils package\n",
        "from pydrive.auth import GoogleAuth #pydrive is a wrapper api for google drive tasks. GoogleAuth is for google authentication\n",
        "from pydrive.drive import GoogleDrive #GoogleDrive for good drive related operations\n",
        "from google.colab import auth #authetication for google colab\n",
        "from oauth2client.client import GoogleCredentials #model for google credentials\n",
        "# Authenticate and create the PyDrive client.\n",
        "auth.authenticate_user() \n",
        "gauth = GoogleAuth()\n",
        "gauth.credentials = GoogleCredentials.get_application_default()\n",
        "drive = GoogleDrive(gauth)\n",
        "link = 'https://drive.google.com/file/d/1b1ulXC-QXCJZP3EEBWjEbGjC9Gk3euQC/view?usp=share_link'\n",
        "id = link.split(\"/\")[-2]\n",
        "\n",
        "downloaded = drive.CreateFile({'id':id})\n",
        "downloaded.GetContentFile('my_goodreads_train.csv')\n",
        "\n",
        "#reading the csv file\n",
        "df = pd.read_csv('my_goodreads_train.csv')\n",
        "\n",
        "print(df)\n"
      ]
    },
    {
      "cell_type": "code",
      "execution_count": null,
      "metadata": {
        "id": "lsoIfH2eE6Dp",
        "colab": {
          "base_uri": "https://localhost:8080/"
        },
        "outputId": "822d63e1-e73c-40ca-deaa-3807ca68386b"
      },
      "outputs": [
        {
          "output_type": "stream",
          "name": "stderr",
          "text": [
            "[nltk_data] Downloading package stopwords to /root/nltk_data...\n",
            "[nltk_data]   Unzipping corpora/stopwords.zip.\n"
          ]
        }
      ],
      "source": [
        "import nltk\n",
        "nltk.download('stopwords')\n",
        "from nltk.corpus import stopwords\n",
        "\n",
        "stops=set(stopwords.words('english')) #imports stopwords from NLTK and creates a set containing common english words"
      ]
    },
    {
      "cell_type": "code",
      "execution_count": null,
      "metadata": {
        "id": "sV4phngzE6GG"
      },
      "outputs": [],
      "source": [
        "import re #a pattern used to match and manipulate text\n",
        "def remove_punctuations(data):\n",
        "    punct_tag=re.compile(r'[^\\w\\s]')\n",
        "    data=punct_tag.sub(r'',data)\n",
        "    return data"
      ]
    },
    {
      "cell_type": "code",
      "execution_count": null,
      "metadata": {
        "id": "Ej-ummmRE6LI"
      },
      "outputs": [],
      "source": [
        "df['review_text']=df['review_text'].apply(lambda z: remove_punctuations(z)) #it uses lambda function to remove all punctuations from text in every row"
      ]
    },
    {
      "cell_type": "code",
      "execution_count": null,
      "metadata": {
        "id": "dw3Pyuc9E6V7"
      },
      "outputs": [],
      "source": [
        "import re\n",
        "def remove_urls(text):\n",
        "    url = re.compile(r'https\\S+')\n",
        "    return url.sub(r' ',text)"
      ]
    },
    {
      "cell_type": "code",
      "execution_count": null,
      "metadata": {
        "id": "AOmouxLAaYaX"
      },
      "outputs": [],
      "source": [
        "df['review_text']=df['review_text'].apply(lambda z: remove_urls(z)) #apply is used to remove URLs"
      ]
    },
    {
      "cell_type": "code",
      "execution_count": null,
      "metadata": {
        "id": "WpAs6IuGaYco"
      },
      "outputs": [],
      "source": [
        "def remove_non_alpha(text):        #removes all non-alphabetic characters\n",
        "    alpha=re.compile(r'[^a-zA-Z]') #using re\n",
        "    return alpha.sub(r' ',text)    #and the result contains only alphabetic characters and spaces"
      ]
    },
    {
      "cell_type": "code",
      "execution_count": null,
      "metadata": {
        "id": "ZaZZNkExaYfj"
      },
      "outputs": [],
      "source": [
        "df['review_text']=df['review_text'].apply(lambda z: remove_non_alpha(z)) #removes characters that are not a-zA-Z"
      ]
    },
    {
      "cell_type": "code",
      "execution_count": null,
      "metadata": {
        "id": "cakroab0aYlk"
      },
      "outputs": [],
      "source": [
        "def remove_spoiler_alert(text):                                     #removes spoiler alerts from text\n",
        "    return re.sub(r'(\\(view spoiler\\).*?\\(hide spoiler\\))','',text) #and replaces any text between view and hide spoiler with an empty string"
      ]
    },
    {
      "cell_type": "code",
      "execution_count": null,
      "metadata": {
        "id": "ueDKBTJaceTI"
      },
      "outputs": [],
      "source": [
        "df['review_text']=df['review_text'].apply(lambda z: remove_spoiler_alert(z)) #the lambda function likely removes any spoiler alerts present"
      ]
    },
    {
      "cell_type": "code",
      "execution_count": null,
      "metadata": {
        "id": "KlbtGWDeceVu"
      },
      "outputs": [],
      "source": [
        "def remove(data):            #a regular expression is created that matches\n",
        "    clean= re.compile(r\"\\n\") #then substitutes them with an empty string \n",
        "    data=clean.sub(r'',data) #removing them from input\n",
        "    return data"
      ]
    },
    {
      "cell_type": "code",
      "execution_count": null,
      "metadata": {
        "id": "bzt2WEAQceYg"
      },
      "outputs": [],
      "source": [
        "df['review_text']=df['review_text'].apply(lambda z: remove(z)) #replaces each element of the column with the result of the function"
      ]
    },
    {
      "cell_type": "code",
      "execution_count": null,
      "metadata": {
        "id": "8WNcg9hKceaR"
      },
      "outputs": [],
      "source": [
        "df1=df[['review_text','rating']] #multiple columns can be selected using double square brackets"
      ]
    },
    {
      "cell_type": "code",
      "execution_count": null,
      "metadata": {
        "colab": {
          "base_uri": "https://localhost:8080/",
          "height": 423
        },
        "id": "SXqAXAhMcedd",
        "outputId": "2e5179ba-4acd-4b11-c7bb-2cdf79d8117b"
      },
      "outputs": [
        {
          "output_type": "execute_result",
          "data": {
            "text/plain": [
              "                                              review_text  rating\n",
              "0       I thought this was a very good historical fant...       5\n",
              "1       Ive had this book recommended to me more than ...       5\n",
              "2       Seriously You go and throw that twist into the...       5\n",
              "3       Gosh Im still not recovering from the effing C...       4\n",
              "4          stars rounded down I cant help it I just do...       3\n",
              "...                                                   ...     ...\n",
              "699995  Beauty of the Beast is a slowburn romance that...       4\n",
              "699996  I absolutely hate cliffhangers   Dreamfever su...       5\n",
              "699997                                   Actual rating          5\n",
              "699998   spoiler alert          Predictable   Im reall...       4\n",
              "699999  What a fantastic novel I am not a gamer the on...       5\n",
              "\n",
              "[700000 rows x 2 columns]"
            ],
            "text/html": [
              "\n",
              "  <div id=\"df-b6db8906-09c8-4854-9a68-7ec5452601be\">\n",
              "    <div class=\"colab-df-container\">\n",
              "      <div>\n",
              "<style scoped>\n",
              "    .dataframe tbody tr th:only-of-type {\n",
              "        vertical-align: middle;\n",
              "    }\n",
              "\n",
              "    .dataframe tbody tr th {\n",
              "        vertical-align: top;\n",
              "    }\n",
              "\n",
              "    .dataframe thead th {\n",
              "        text-align: right;\n",
              "    }\n",
              "</style>\n",
              "<table border=\"1\" class=\"dataframe\">\n",
              "  <thead>\n",
              "    <tr style=\"text-align: right;\">\n",
              "      <th></th>\n",
              "      <th>review_text</th>\n",
              "      <th>rating</th>\n",
              "    </tr>\n",
              "  </thead>\n",
              "  <tbody>\n",
              "    <tr>\n",
              "      <th>0</th>\n",
              "      <td>I thought this was a very good historical fant...</td>\n",
              "      <td>5</td>\n",
              "    </tr>\n",
              "    <tr>\n",
              "      <th>1</th>\n",
              "      <td>Ive had this book recommended to me more than ...</td>\n",
              "      <td>5</td>\n",
              "    </tr>\n",
              "    <tr>\n",
              "      <th>2</th>\n",
              "      <td>Seriously You go and throw that twist into the...</td>\n",
              "      <td>5</td>\n",
              "    </tr>\n",
              "    <tr>\n",
              "      <th>3</th>\n",
              "      <td>Gosh Im still not recovering from the effing C...</td>\n",
              "      <td>4</td>\n",
              "    </tr>\n",
              "    <tr>\n",
              "      <th>4</th>\n",
              "      <td>stars rounded down I cant help it I just do...</td>\n",
              "      <td>3</td>\n",
              "    </tr>\n",
              "    <tr>\n",
              "      <th>...</th>\n",
              "      <td>...</td>\n",
              "      <td>...</td>\n",
              "    </tr>\n",
              "    <tr>\n",
              "      <th>699995</th>\n",
              "      <td>Beauty of the Beast is a slowburn romance that...</td>\n",
              "      <td>4</td>\n",
              "    </tr>\n",
              "    <tr>\n",
              "      <th>699996</th>\n",
              "      <td>I absolutely hate cliffhangers   Dreamfever su...</td>\n",
              "      <td>5</td>\n",
              "    </tr>\n",
              "    <tr>\n",
              "      <th>699997</th>\n",
              "      <td>Actual rating</td>\n",
              "      <td>5</td>\n",
              "    </tr>\n",
              "    <tr>\n",
              "      <th>699998</th>\n",
              "      <td>spoiler alert          Predictable   Im reall...</td>\n",
              "      <td>4</td>\n",
              "    </tr>\n",
              "    <tr>\n",
              "      <th>699999</th>\n",
              "      <td>What a fantastic novel I am not a gamer the on...</td>\n",
              "      <td>5</td>\n",
              "    </tr>\n",
              "  </tbody>\n",
              "</table>\n",
              "<p>700000 rows × 2 columns</p>\n",
              "</div>\n",
              "      <button class=\"colab-df-convert\" onclick=\"convertToInteractive('df-b6db8906-09c8-4854-9a68-7ec5452601be')\"\n",
              "              title=\"Convert this dataframe to an interactive table.\"\n",
              "              style=\"display:none;\">\n",
              "        \n",
              "  <svg xmlns=\"http://www.w3.org/2000/svg\" height=\"24px\"viewBox=\"0 0 24 24\"\n",
              "       width=\"24px\">\n",
              "    <path d=\"M0 0h24v24H0V0z\" fill=\"none\"/>\n",
              "    <path d=\"M18.56 5.44l.94 2.06.94-2.06 2.06-.94-2.06-.94-.94-2.06-.94 2.06-2.06.94zm-11 1L8.5 8.5l.94-2.06 2.06-.94-2.06-.94L8.5 2.5l-.94 2.06-2.06.94zm10 10l.94 2.06.94-2.06 2.06-.94-2.06-.94-.94-2.06-.94 2.06-2.06.94z\"/><path d=\"M17.41 7.96l-1.37-1.37c-.4-.4-.92-.59-1.43-.59-.52 0-1.04.2-1.43.59L10.3 9.45l-7.72 7.72c-.78.78-.78 2.05 0 2.83L4 21.41c.39.39.9.59 1.41.59.51 0 1.02-.2 1.41-.59l7.78-7.78 2.81-2.81c.8-.78.8-2.07 0-2.86zM5.41 20L4 18.59l7.72-7.72 1.47 1.35L5.41 20z\"/>\n",
              "  </svg>\n",
              "      </button>\n",
              "      \n",
              "  <style>\n",
              "    .colab-df-container {\n",
              "      display:flex;\n",
              "      flex-wrap:wrap;\n",
              "      gap: 12px;\n",
              "    }\n",
              "\n",
              "    .colab-df-convert {\n",
              "      background-color: #E8F0FE;\n",
              "      border: none;\n",
              "      border-radius: 50%;\n",
              "      cursor: pointer;\n",
              "      display: none;\n",
              "      fill: #1967D2;\n",
              "      height: 32px;\n",
              "      padding: 0 0 0 0;\n",
              "      width: 32px;\n",
              "    }\n",
              "\n",
              "    .colab-df-convert:hover {\n",
              "      background-color: #E2EBFA;\n",
              "      box-shadow: 0px 1px 2px rgba(60, 64, 67, 0.3), 0px 1px 3px 1px rgba(60, 64, 67, 0.15);\n",
              "      fill: #174EA6;\n",
              "    }\n",
              "\n",
              "    [theme=dark] .colab-df-convert {\n",
              "      background-color: #3B4455;\n",
              "      fill: #D2E3FC;\n",
              "    }\n",
              "\n",
              "    [theme=dark] .colab-df-convert:hover {\n",
              "      background-color: #434B5C;\n",
              "      box-shadow: 0px 1px 3px 1px rgba(0, 0, 0, 0.15);\n",
              "      filter: drop-shadow(0px 1px 2px rgba(0, 0, 0, 0.3));\n",
              "      fill: #FFFFFF;\n",
              "    }\n",
              "  </style>\n",
              "\n",
              "      <script>\n",
              "        const buttonEl =\n",
              "          document.querySelector('#df-b6db8906-09c8-4854-9a68-7ec5452601be button.colab-df-convert');\n",
              "        buttonEl.style.display =\n",
              "          google.colab.kernel.accessAllowed ? 'block' : 'none';\n",
              "\n",
              "        async function convertToInteractive(key) {\n",
              "          const element = document.querySelector('#df-b6db8906-09c8-4854-9a68-7ec5452601be');\n",
              "          const dataTable =\n",
              "            await google.colab.kernel.invokeFunction('convertToInteractive',\n",
              "                                                     [key], {});\n",
              "          if (!dataTable) return;\n",
              "\n",
              "          const docLinkHtml = 'Like what you see? Visit the ' +\n",
              "            '<a target=\"_blank\" href=https://colab.research.google.com/notebooks/data_table.ipynb>data table notebook</a>'\n",
              "            + ' to learn more about interactive tables.';\n",
              "          element.innerHTML = '';\n",
              "          dataTable['output_type'] = 'display_data';\n",
              "          await google.colab.output.renderOutput(dataTable, element);\n",
              "          const docLink = document.createElement('div');\n",
              "          docLink.innerHTML = docLinkHtml;\n",
              "          element.appendChild(docLink);\n",
              "        }\n",
              "      </script>\n",
              "    </div>\n",
              "  </div>\n",
              "  "
            ]
          },
          "metadata": {},
          "execution_count": 15
        }
      ],
      "source": [
        "df1"
      ]
    },
    {
      "cell_type": "code",
      "execution_count": null,
      "metadata": {
        "colab": {
          "base_uri": "https://localhost:8080/"
        },
        "id": "gBP0Dw3Tc-nD",
        "outputId": "2b9790ec-bff9-4779-b22f-6795600ab88b"
      },
      "outputs": [
        {
          "output_type": "stream",
          "name": "stderr",
          "text": [
            "<ipython-input-16-9a8d936165fc>:1: SettingWithCopyWarning: \n",
            "A value is trying to be set on a copy of a slice from a DataFrame.\n",
            "Try using .loc[row_indexer,col_indexer] = value instead\n",
            "\n",
            "See the caveats in the documentation: https://pandas.pydata.org/pandas-docs/stable/user_guide/indexing.html#returning-a-view-versus-a-copy\n",
            "  df1['review_text']=df1['review_text'].apply(lambda z: z.lower()) #converting text to lowercase using lambda function\n"
          ]
        }
      ],
      "source": [
        "df1['review_text']=df1['review_text'].apply(lambda z: z.lower()) #converting text to lowercase using lambda function"
      ]
    },
    {
      "cell_type": "code",
      "execution_count": null,
      "metadata": {
        "colab": {
          "base_uri": "https://localhost:8080/"
        },
        "id": "fJrNzGHAc-po",
        "outputId": "ff55fd4c-0236-467e-c627-dac0be3d1e8f"
      },
      "outputs": [
        {
          "output_type": "execute_result",
          "data": {
            "text/plain": [
              "8407"
            ]
          },
          "metadata": {},
          "execution_count": 17
        }
      ],
      "source": [
        "df1.duplicated().sum() #checks for duplicated rows and returns a boolean series, which is then summed up to count the true values"
      ]
    },
    {
      "cell_type": "code",
      "execution_count": null,
      "metadata": {
        "id": "KFhymOREc-sQ"
      },
      "outputs": [],
      "source": [
        "df1=df1.drop_duplicates() #only left with unique rows dropping the duplicates"
      ]
    },
    {
      "cell_type": "code",
      "execution_count": null,
      "metadata": {
        "id": "HCg0czAAc-vl"
      },
      "outputs": [],
      "source": [
        "df2=df1.copy() #creating copy of df1 as df2, changes won't affect df1"
      ]
    },
    {
      "cell_type": "code",
      "execution_count": null,
      "metadata": {
        "colab": {
          "base_uri": "https://localhost:8080/",
          "height": 206
        },
        "id": "eQF5wS_Ic-xV",
        "outputId": "7d3d021c-5e55-439e-c227-68464e48a4dc"
      },
      "outputs": [
        {
          "output_type": "execute_result",
          "data": {
            "text/plain": [
              "                                         review_text  rating\n",
              "0  thought good historical fantasy set new york c...       5\n",
              "1  ive book recommended decided give shot turns p...       5\n",
              "2  seriously go throw twist story kills love seri...       5\n",
              "3  gosh im still recovering effing cliffhanger bo...       4\n",
              "4  stars rounded cant help dont connect theo much...       3"
            ],
            "text/html": [
              "\n",
              "  <div id=\"df-45114084-5a79-4d36-bc8b-695a3fe5d5ef\">\n",
              "    <div class=\"colab-df-container\">\n",
              "      <div>\n",
              "<style scoped>\n",
              "    .dataframe tbody tr th:only-of-type {\n",
              "        vertical-align: middle;\n",
              "    }\n",
              "\n",
              "    .dataframe tbody tr th {\n",
              "        vertical-align: top;\n",
              "    }\n",
              "\n",
              "    .dataframe thead th {\n",
              "        text-align: right;\n",
              "    }\n",
              "</style>\n",
              "<table border=\"1\" class=\"dataframe\">\n",
              "  <thead>\n",
              "    <tr style=\"text-align: right;\">\n",
              "      <th></th>\n",
              "      <th>review_text</th>\n",
              "      <th>rating</th>\n",
              "    </tr>\n",
              "  </thead>\n",
              "  <tbody>\n",
              "    <tr>\n",
              "      <th>0</th>\n",
              "      <td>thought good historical fantasy set new york c...</td>\n",
              "      <td>5</td>\n",
              "    </tr>\n",
              "    <tr>\n",
              "      <th>1</th>\n",
              "      <td>ive book recommended decided give shot turns p...</td>\n",
              "      <td>5</td>\n",
              "    </tr>\n",
              "    <tr>\n",
              "      <th>2</th>\n",
              "      <td>seriously go throw twist story kills love seri...</td>\n",
              "      <td>5</td>\n",
              "    </tr>\n",
              "    <tr>\n",
              "      <th>3</th>\n",
              "      <td>gosh im still recovering effing cliffhanger bo...</td>\n",
              "      <td>4</td>\n",
              "    </tr>\n",
              "    <tr>\n",
              "      <th>4</th>\n",
              "      <td>stars rounded cant help dont connect theo much...</td>\n",
              "      <td>3</td>\n",
              "    </tr>\n",
              "  </tbody>\n",
              "</table>\n",
              "</div>\n",
              "      <button class=\"colab-df-convert\" onclick=\"convertToInteractive('df-45114084-5a79-4d36-bc8b-695a3fe5d5ef')\"\n",
              "              title=\"Convert this dataframe to an interactive table.\"\n",
              "              style=\"display:none;\">\n",
              "        \n",
              "  <svg xmlns=\"http://www.w3.org/2000/svg\" height=\"24px\"viewBox=\"0 0 24 24\"\n",
              "       width=\"24px\">\n",
              "    <path d=\"M0 0h24v24H0V0z\" fill=\"none\"/>\n",
              "    <path d=\"M18.56 5.44l.94 2.06.94-2.06 2.06-.94-2.06-.94-.94-2.06-.94 2.06-2.06.94zm-11 1L8.5 8.5l.94-2.06 2.06-.94-2.06-.94L8.5 2.5l-.94 2.06-2.06.94zm10 10l.94 2.06.94-2.06 2.06-.94-2.06-.94-.94-2.06-.94 2.06-2.06.94z\"/><path d=\"M17.41 7.96l-1.37-1.37c-.4-.4-.92-.59-1.43-.59-.52 0-1.04.2-1.43.59L10.3 9.45l-7.72 7.72c-.78.78-.78 2.05 0 2.83L4 21.41c.39.39.9.59 1.41.59.51 0 1.02-.2 1.41-.59l7.78-7.78 2.81-2.81c.8-.78.8-2.07 0-2.86zM5.41 20L4 18.59l7.72-7.72 1.47 1.35L5.41 20z\"/>\n",
              "  </svg>\n",
              "      </button>\n",
              "      \n",
              "  <style>\n",
              "    .colab-df-container {\n",
              "      display:flex;\n",
              "      flex-wrap:wrap;\n",
              "      gap: 12px;\n",
              "    }\n",
              "\n",
              "    .colab-df-convert {\n",
              "      background-color: #E8F0FE;\n",
              "      border: none;\n",
              "      border-radius: 50%;\n",
              "      cursor: pointer;\n",
              "      display: none;\n",
              "      fill: #1967D2;\n",
              "      height: 32px;\n",
              "      padding: 0 0 0 0;\n",
              "      width: 32px;\n",
              "    }\n",
              "\n",
              "    .colab-df-convert:hover {\n",
              "      background-color: #E2EBFA;\n",
              "      box-shadow: 0px 1px 2px rgba(60, 64, 67, 0.3), 0px 1px 3px 1px rgba(60, 64, 67, 0.15);\n",
              "      fill: #174EA6;\n",
              "    }\n",
              "\n",
              "    [theme=dark] .colab-df-convert {\n",
              "      background-color: #3B4455;\n",
              "      fill: #D2E3FC;\n",
              "    }\n",
              "\n",
              "    [theme=dark] .colab-df-convert:hover {\n",
              "      background-color: #434B5C;\n",
              "      box-shadow: 0px 1px 3px 1px rgba(0, 0, 0, 0.15);\n",
              "      filter: drop-shadow(0px 1px 2px rgba(0, 0, 0, 0.3));\n",
              "      fill: #FFFFFF;\n",
              "    }\n",
              "  </style>\n",
              "\n",
              "      <script>\n",
              "        const buttonEl =\n",
              "          document.querySelector('#df-45114084-5a79-4d36-bc8b-695a3fe5d5ef button.colab-df-convert');\n",
              "        buttonEl.style.display =\n",
              "          google.colab.kernel.accessAllowed ? 'block' : 'none';\n",
              "\n",
              "        async function convertToInteractive(key) {\n",
              "          const element = document.querySelector('#df-45114084-5a79-4d36-bc8b-695a3fe5d5ef');\n",
              "          const dataTable =\n",
              "            await google.colab.kernel.invokeFunction('convertToInteractive',\n",
              "                                                     [key], {});\n",
              "          if (!dataTable) return;\n",
              "\n",
              "          const docLinkHtml = 'Like what you see? Visit the ' +\n",
              "            '<a target=\"_blank\" href=https://colab.research.google.com/notebooks/data_table.ipynb>data table notebook</a>'\n",
              "            + ' to learn more about interactive tables.';\n",
              "          element.innerHTML = '';\n",
              "          dataTable['output_type'] = 'display_data';\n",
              "          await google.colab.output.renderOutput(dataTable, element);\n",
              "          const docLink = document.createElement('div');\n",
              "          docLink.innerHTML = docLinkHtml;\n",
              "          element.appendChild(docLink);\n",
              "        }\n",
              "      </script>\n",
              "    </div>\n",
              "  </div>\n",
              "  "
            ]
          },
          "metadata": {},
          "execution_count": 20
        }
      ],
      "source": [
        "STOPWORDS = set(stopwords.words('english'))                                         #remove english stopwords\n",
        "def remove_stopwords(text):                                                         #applies function to 'review-text' column\n",
        "    \"\"\"custom function to remove the stopwords\"\"\"                                   #and assigns results back\n",
        "    return \" \".join([word for word in str(text).split() if word not in STOPWORDS])  #to the same column\n",
        "\n",
        "df2[\"review_text\"] = df2[\"review_text\"].apply(lambda text: remove_stopwords(text))\n",
        "df2.head()"
      ]
    },
    {
      "cell_type": "code",
      "execution_count": null,
      "metadata": {
        "colab": {
          "base_uri": "https://localhost:8080/"
        },
        "id": "duuK9GLhc-2U",
        "outputId": "3df1c484-0274-492f-8ddf-edb1a0add19f"
      },
      "outputs": [
        {
          "output_type": "execute_result",
          "data": {
            "text/plain": [
              "2418"
            ]
          },
          "metadata": {},
          "execution_count": 21
        }
      ],
      "source": [
        "df2.duplicated().sum()"
      ]
    },
    {
      "cell_type": "code",
      "execution_count": null,
      "metadata": {
        "id": "Qy78r5uPeNC_"
      },
      "outputs": [],
      "source": [
        "df2=df2.drop_duplicates()"
      ]
    },
    {
      "cell_type": "code",
      "execution_count": null,
      "metadata": {
        "id": "1dhNQHbWeNFT"
      },
      "outputs": [],
      "source": [
        "from sklearn.feature_extraction.text import TfidfVectorizer\n",
        "vectorizer = TfidfVectorizer() # Tfid vectorizer creates a matrix for the sentences based on word frequency/importance"
      ]
    },
    {
      "cell_type": "code",
      "execution_count": null,
      "metadata": {
        "id": "VSt8N1TfeNH9"
      },
      "outputs": [],
      "source": [
        "from sklearn.feature_extraction.text import TfidfVectorizer #creates an instance\n",
        "tfid_matrix=vectorizer.fit_transform(df2['review_text'])    #and then the column gets transformed by method into a matrix of Tfidf feature"
      ]
    },
    {
      "cell_type": "code",
      "execution_count": null,
      "metadata": {
        "colab": {
          "base_uri": "https://localhost:8080/"
        },
        "id": "DW2Mef2xeNKu",
        "outputId": "8c50151e-3322-4e4e-c17b-486ae0cc37ef"
      },
      "outputs": [
        {
          "output_type": "execute_result",
          "data": {
            "text/plain": [
              "<689175x547467 sparse matrix of type '<class 'numpy.float64'>'\n",
              "\twith 52862111 stored elements in Compressed Sparse Row format>"
            ]
          },
          "metadata": {},
          "execution_count": 25
        }
      ],
      "source": [
        "tfid_matrix #used to identify importance of each word, calculates term frequency * inverse document frequency for every word in the collection"
      ]
    },
    {
      "cell_type": "code",
      "execution_count": null,
      "metadata": {
        "id": "-uMm7CSheNOF"
      },
      "outputs": [],
      "source": [
        "y=df2['rating'] #assigning rating column to variable 'y'\n",
        "X=tfid_matrix   #assigning value to matrix to 'X'"
      ]
    },
    {
      "cell_type": "code",
      "execution_count": null,
      "metadata": {
        "colab": {
          "base_uri": "https://localhost:8080/"
        },
        "id": "-pRxBXtfi8DL",
        "outputId": "bd0dd965-0e59-4f2d-8fc6-f7d61419fc73"
      },
      "outputs": [
        {
          "output_type": "execute_result",
          "data": {
            "text/plain": [
              "<689175x547467 sparse matrix of type '<class 'numpy.float64'>'\n",
              "\twith 52862111 stored elements in Compressed Sparse Row format>"
            ]
          },
          "metadata": {},
          "execution_count": 27
        }
      ],
      "source": [
        "X"
      ]
    },
    {
      "cell_type": "code",
      "execution_count": null,
      "metadata": {
        "id": "7lpdhoZQeNQa"
      },
      "outputs": [],
      "source": [
        "from sklearn.decomposition import TruncatedSVD\n",
        "from scipy.sparse import csr_matrix\n",
        "#We use truncated singular value decomposition as it works well with the sparse matrix tfid vectorization created\n",
        "#We only reduce the dimensions to a 100 however better model performance is achieved for a higher number of components\n",
        "#If we use the premium gpu on google collab pro we can do this and achieve optimal performance at around 400-500 components.\n",
        "\n",
        "svd = TruncatedSVD(n_components=50) # reduce to 200 components\n",
        "\n",
        "# Convert sparse matrix to Compressed Sparse Row (CSR) format\n",
        "X_csr = csr_matrix(tfid_matrix)\n",
        "\n",
        "# Apply Truncated SVD on the sparse matrix\n",
        "X = svd.fit_transform(X_csr)"
      ]
    },
    {
      "cell_type": "code",
      "execution_count": null,
      "metadata": {
        "id": "dTQNLJ6pc-7k"
      },
      "outputs": [],
      "source": [
        "y=df2['rating'].astype('int64')"
      ]
    },
    {
      "cell_type": "code",
      "execution_count": null,
      "metadata": {
        "colab": {
          "base_uri": "https://localhost:8080/"
        },
        "id": "O9YKFPXWhh76",
        "outputId": "e39f8c05-ef49-4071-f958-b2fd5f5b48a3"
      },
      "outputs": [
        {
          "output_type": "execute_result",
          "data": {
            "text/plain": [
              "0         5\n",
              "1         5\n",
              "2         5\n",
              "3         4\n",
              "4         3\n",
              "         ..\n",
              "699994    5\n",
              "699995    4\n",
              "699996    5\n",
              "699998    4\n",
              "699999    5\n",
              "Name: rating, Length: 689175, dtype: int64"
            ]
          },
          "metadata": {},
          "execution_count": 30
        }
      ],
      "source": [
        "y"
      ]
    },
    {
      "cell_type": "code",
      "execution_count": null,
      "metadata": {
        "colab": {
          "base_uri": "https://localhost:8080/"
        },
        "id": "_YnR9G0Zhh-a",
        "outputId": "9ec24bec-2070-4490-ac8e-97c699514e30"
      },
      "outputs": [
        {
          "output_type": "execute_result",
          "data": {
            "text/plain": [
              "0         4\n",
              "1         4\n",
              "2         4\n",
              "3         3\n",
              "4         2\n",
              "         ..\n",
              "699994    4\n",
              "699995    3\n",
              "699996    4\n",
              "699998    3\n",
              "699999    4\n",
              "Name: rating, Length: 689175, dtype: int64"
            ]
          },
          "metadata": {},
          "execution_count": 31
        }
      ],
      "source": [
        "# Tensorflow works with labels starting from 0 while our labels start from 1\n",
        "# We subtract 1 from each label so the one-hot encoding creates 5 classes instead of 6\n",
        "#We reverse this when predicting on the test data to get the original labels back\n",
        "\n",
        "y=y-1\n",
        "y"
      ]
    },
    {
      "cell_type": "code",
      "execution_count": null,
      "metadata": {
        "id": "ydyBI7iohiA4"
      },
      "outputs": [],
      "source": [
        "from tensorflow.keras.utils import to_categorical\n",
        "y_onehot = to_categorical(y,num_classes=5)\n"
      ]
    },
    {
      "cell_type": "code",
      "execution_count": null,
      "metadata": {
        "colab": {
          "base_uri": "https://localhost:8080/"
        },
        "id": "kZoubl8WhiDe",
        "outputId": "47eb7e1e-7890-430d-e6c5-acd76dc8f200"
      },
      "outputs": [
        {
          "output_type": "execute_result",
          "data": {
            "text/plain": [
              "array([[0., 0., 0., 0., 1.],\n",
              "       [0., 0., 0., 0., 1.],\n",
              "       [0., 0., 0., 0., 1.],\n",
              "       ...,\n",
              "       [0., 0., 0., 0., 1.],\n",
              "       [0., 0., 0., 1., 0.],\n",
              "       [0., 0., 0., 0., 1.]], dtype=float32)"
            ]
          },
          "metadata": {},
          "execution_count": 33
        }
      ],
      "source": [
        "y_onehot\n"
      ]
    },
    {
      "cell_type": "code",
      "execution_count": null,
      "metadata": {
        "colab": {
          "base_uri": "https://localhost:8080/"
        },
        "id": "AGlHuAxPhiG5",
        "outputId": "bbff0c9b-64da-4185-80d8-6d41b7ef7bdf"
      },
      "outputs": [
        {
          "output_type": "execute_result",
          "data": {
            "text/plain": [
              "(689175, 5)"
            ]
          },
          "metadata": {},
          "execution_count": 34
        }
      ],
      "source": [
        "y_onehot.shape"
      ]
    },
    {
      "cell_type": "code",
      "execution_count": null,
      "metadata": {
        "id": "izRWh6_giuiE"
      },
      "outputs": [],
      "source": [
        "y_val=y_onehot[:4000]\n",
        "X_val=X[:4000]\n",
        "y_train=y_onehot[4000:]\n",
        "X_train=X[4000:]"
      ]
    },
    {
      "cell_type": "code",
      "execution_count": null,
      "metadata": {
        "id": "8C3vT7uoiukJ"
      },
      "outputs": [],
      "source": [
        "#LSTM NEEDS THIS SHAPE (rows,timesteps,features)\n",
        "X_train_lstm=X_train.reshape(-1,1,50)\n",
        "X_val_lstm=X_val.reshape(-1,1,50)"
      ]
    },
    {
      "cell_type": "code",
      "source": [
        "#Baseline Naive bayes classifer\n",
        "from sklearn.naive_bayes import GaussianNB #used for classification tasks and assumes that the features are normally distributed\n",
        "from sklearn.metrics import accuracy_score #to evaluate the accuracy of classification models by comparing predicted and actual labels\n",
        "model=GaussianNB()                              #predict the ratings for the validation data,\n",
        "model.fit(X_train,(df2['rating'])[4000:])       #and calculates the accuracy score between the predicted ratings\n",
        "y_pred=model.predict(X_val)                     #and the actual ratings for the first 4000 rows of the rating column in df2\n",
        "accuracy_score(y_pred,(df2['rating'])[:4000])"
      ],
      "metadata": {
        "colab": {
          "base_uri": "https://localhost:8080/"
        },
        "id": "DO9LrjwfZp5H",
        "outputId": "718c40b0-101a-4094-e9ec-9bc822340501"
      },
      "execution_count": null,
      "outputs": [
        {
          "output_type": "execute_result",
          "data": {
            "text/plain": [
              "0.385"
            ]
          },
          "metadata": {},
          "execution_count": 171
        }
      ]
    },
    {
      "cell_type": "code",
      "execution_count": null,
      "metadata": {
        "colab": {
          "base_uri": "https://localhost:8080/"
        },
        "id": "oitqTnyniumc",
        "outputId": "c92ee98b-35f7-4dde-91fd-b218a73faa93"
      },
      "outputs": [
        {
          "output_type": "stream",
          "name": "stdout",
          "text": [
            "Epoch 1/5\n",
            "21412/21412 [==============================] - 140s 6ms/step - loss: 1.2504 - accuracy: 0.4523 - val_loss: 1.2026 - val_accuracy: 0.4775\n",
            "Epoch 2/5\n",
            "21412/21412 [==============================] - 101s 5ms/step - loss: 1.2350 - accuracy: 0.4593 - val_loss: 1.1947 - val_accuracy: 0.4812\n",
            "Epoch 3/5\n",
            "21412/21412 [==============================] - 105s 5ms/step - loss: 1.2302 - accuracy: 0.4610 - val_loss: 1.1934 - val_accuracy: 0.4900\n",
            "Epoch 4/5\n",
            "21412/21412 [==============================] - 99s 5ms/step - loss: 1.2272 - accuracy: 0.4621 - val_loss: 1.1869 - val_accuracy: 0.4893\n",
            "Epoch 5/5\n",
            "21412/21412 [==============================] - 98s 5ms/step - loss: 1.2251 - accuracy: 0.4635 - val_loss: 1.1884 - val_accuracy: 0.4918\n"
          ]
        }
      ],
      "source": [
        "from keras.models import Sequential\n",
        "from keras.layers import LSTM, Dense, Embedding\n",
        "from gensim.models import Word2Vec\n",
        "from tensorflow.keras.optimizers.legacy import Adam\n",
        "\n",
        "\n",
        "\n",
        "# LSTM model architecture\n",
        "model1 = Sequential()\n",
        "model1.add(LSTM(units=5, input_shape=(1, 50), activation='tanh'))\n",
        "model1.add(BatchNormalization())\n",
        "model1.add(Dropout(0.3))\n",
        "model1.add(Dense(units=5, activation='softmax'))\n",
        "\n",
        "# Compiling model\n",
        "model1.compile(optimizer='adam', loss='categorical_crossentropy', metrics=['accuracy'])\n",
        "model_lstm=model1\n",
        "history=model_lstm.fit(X_train_lstm,y_train,epochs=5,validation_data=(X_val_lstm,y_val))\n"
      ]
    },
    {
      "cell_type": "code",
      "source": [
        "import numpy as np\n",
        "import pandas as pd\n",
        "import matplotlib.pyplot as plt\n",
        "\n",
        "#defining the function to plot the training and validation metrics\n",
        "def plot_metrics(history):                                            #object containing training and validation loss values\n",
        "    plt.plot(history.history['loss'])\n",
        "    plt.plot(history.history['val_loss'])\n",
        "    plt.title('Model Loss')                                           #plots\n",
        "    plt.ylabel('Loss')                                                #loss on y-axis\n",
        "    plt.xlabel('Epoch')                                               #epoch on x-axis\n",
        "    plt.legend(['train', 'val'], loc='upper right')\n",
        "    plt.show()\n",
        "\n",
        "    plt.plot(history.history['accuracy'])\n",
        "    plt.plot(history.history['val_accuracy'])\n",
        "    plt.title('Model Accuracy')                                       #plots\n",
        "    plt.ylabel('Accuracy')                                            #accuracy on y-axis\n",
        "    plt.xlabel('Epoch')                                               #epoch on x-axis\n",
        "    plt.legend(['train', 'val'], loc='lower right')\n",
        "    plt.show()\n",
        "\n",
        "plot_metrics(history)"
      ],
      "metadata": {
        "colab": {
          "base_uri": "https://localhost:8080/",
          "height": 927
        },
        "id": "J2U5PmtKTSMz",
        "outputId": "2171d72d-7ab0-47ef-a52f-9ca69cb57c89"
      },
      "execution_count": null,
      "outputs": [
        {
          "output_type": "display_data",
          "data": {
            "text/plain": [
              "<Figure size 640x480 with 1 Axes>"
            ],
            "image/png": "[encoded data removed]"
          },
          "metadata": {}
        },
        {
          "output_type": "display_data",
          "data": {
            "text/plain": [
              "<Figure size 640x480 with 1 Axes>"
            ],
            "image/png": "[encoded data removed]"
          },
          "metadata": {}
        }
      ]
    },
    {
      "cell_type": "code",
      "source": [
        "df_results = pd.DataFrame({'Training Accuracy': history.history['accuracy'],\n",
        "                   'Testing Accuracy': history.history['val_accuracy'],\n",
        "                   'Training Loss': history.history['loss'],\n",
        "                   'Testing Loss': history.history['val_loss']})\n",
        "\n",
        "#adding mean and standard deviation to dataframe\n",
        "mean = df_results.mean()\n",
        "std = df_results.std()\n",
        "\n",
        "#adding the mean and standard deviation as a new row to the dataframe\n",
        "df_results.loc['Mean'] = mean\n",
        "df_results.loc['Std'] = std\n",
        "\n",
        "#displaying dataframe\n",
        "print(df_results)"
      ],
      "metadata": {
        "colab": {
          "base_uri": "https://localhost:8080/"
        },
        "id": "kgTXc3zgUJEu",
        "outputId": "80ed7bdf-36ed-48bc-9940-fd59a72ee1af"
      },
      "execution_count": null,
      "outputs": [
        {
          "output_type": "stream",
          "name": "stdout",
          "text": [
            "      Training Accuracy  Testing Accuracy  Training Loss  Testing Loss\n",
            "0              0.452344          0.477500       1.250378      1.202648\n",
            "1              0.459283          0.481250       1.235022      1.194652\n",
            "2              0.460992          0.490000       1.230233      1.193403\n",
            "3              0.462054          0.489250       1.227192      1.186918\n",
            "4              0.463471          0.491750       1.225131      1.188361\n",
            "Mean           0.459629          0.485950       1.233591      1.193196\n",
            "Std            0.004350          0.006213       0.010095      0.006211\n"
          ]
        }
      ]
    },
    {
      "cell_type": "code",
      "source": [
        "import tensorflow as tf\n",
        "#3 layer\n",
        "input_shape = (1, 50) #defining the input shape\n",
        "\n",
        "#defining hidden layer sizes\n",
        "hidden_dim_1 = 128\n",
        "hidden_dim_2 = 64\n",
        "\n",
        "output_dim = 5 #defining the number of output categories\n",
        "\n",
        "model = tf.keras.models.Sequential([                            #defining model architecture\n",
        "    tf.keras.layers.Flatten(input_shape=input_shape),\n",
        "    tf.keras.layers.Dense(hidden_dim_1, activation='relu'),\n",
        "    tf.keras.layers.Dense(hidden_dim_2, activation='relu'),\n",
        "    tf.keras.layers.Dense(output_dim, activation='softmax')\n",
        "])\n",
        "\n",
        "model.compile(loss='categorical_crossentropy', optimizer='adam', metrics=['accuracy']) #model compilation\n",
        "\n",
        "#printing model summary\n",
        "model.summary()\n",
        "model_3layer=model"
      ],
      "metadata": {
        "colab": {
          "base_uri": "https://localhost:8080/"
        },
        "id": "-4cZVpEaUJLq",
        "outputId": "260c6e86-2b29-4925-cc06-b90c613624cd"
      },
      "execution_count": null,
      "outputs": [
        {
          "output_type": "stream",
          "name": "stdout",
          "text": [
            "Model: \"sequential_21\"\n",
            "_________________________________________________________________\n",
            " Layer (type)                Output Shape              Param #   \n",
            "=================================================================\n",
            " flatten_20 (Flatten)        (None, 50)                0         \n",
            "                                                                 \n",
            " dense_85 (Dense)            (None, 128)               6528      \n",
            "                                                                 \n",
            " dense_86 (Dense)            (None, 64)                8256      \n",
            "                                                                 \n",
            " dense_87 (Dense)            (None, 5)                 325       \n",
            "                                                                 \n",
            "=================================================================\n",
            "Total params: 15,109\n",
            "Trainable params: 15,109\n",
            "Non-trainable params: 0\n",
            "_________________________________________________________________\n"
          ]
        }
      ]
    },
    {
      "cell_type": "code",
      "source": [
        "history=model_3layer.fit(X_train_lstm,y_train,epochs=5,validation_data=(X_val_lstm,y_val)) #training model with 3 layers, 7 epochs, and validation"
      ],
      "metadata": {
        "id": "n9pRScVCc7IS"
      },
      "execution_count": null,
      "outputs": []
    },
    {
      "cell_type": "code",
      "source": [
        "#function to plot loss and accuracy metrics for training or validation\n",
        "def plot_metrics(history):\n",
        "    plt.plot(history.history['loss'])\n",
        "    plt.plot(history.history['val_loss'])\n",
        "    plt.title('Model Loss')                           #plots\n",
        "    plt.ylabel('Loss')                                #loss on y-axis    \n",
        "    plt.xlabel('Epoch')                               #epoch on x-axis\n",
        "    plt.legend(['train', 'val'], loc='upper right')\n",
        "    plt.show()\n",
        "\n",
        "    plt.plot(history.history['accuracy'])\n",
        "    plt.plot(history.history['val_accuracy'])\n",
        "    plt.title('Model Accuracy')                       #plots\n",
        "    plt.ylabel('Accuracy')                            #accuracy on y-axis\n",
        "    plt.xlabel('Epoch')                               #epoch on x-axis\n",
        "    plt.legend(['train', 'val'], loc='lower right')\n",
        "    plt.show()\n",
        "\n",
        "plot_metrics(history)"
      ],
      "metadata": {
        "id": "YvGaySrvUJQF"
      },
      "execution_count": null,
      "outputs": []
    },
    {
      "cell_type": "code",
      "source": [
        "df_results = pd.DataFrame({'Training Accuracy': history.history['accuracy'],\n",
        "                   'Testing Accuracy': history.history['val_accuracy'],\n",
        "                   'Training Loss': history.history['loss'],\n",
        "                   'Testing Loss': history.history['val_loss']})\n",
        "\n",
        "#adding mean and standard deviation to the dataframe\n",
        "mean = df_results.mean()\n",
        "std = df_results.std()\n",
        "\n",
        "#adding mean and standard deviation as a new row to the dataframe\n",
        "df_results.loc['Mean'] = mean\n",
        "df_results.loc['Std'] = std\n",
        "\n",
        "#displaying dataframe\n",
        "print(df_results)"
      ],
      "metadata": {
        "id": "VBcWTFN6TSS8"
      },
      "execution_count": null,
      "outputs": []
    },
    {
      "cell_type": "code",
      "source": [
        "import matplotlib.pyplot as plt\n",
        "import numpy as np\n",
        "\n",
        "# Define a range of values for hidden_dim_1 to experiment with\n",
        "neuron_range = np.arange(10, 400, 70)\n",
        "\n",
        "# Initialize lists to store performance metrics for each value of hidden_dim_1\n",
        "train_accs = []\n",
        "test_accs = []\n",
        "\n",
        "# Train the model for each value of hidden_dim_1 and record the performance metrics\n",
        "for hidden_dim_1 in neuron_range:\n",
        "    model = tf.keras.models.Sequential([\n",
        "        tf.keras.layers.Flatten(input_shape=(1,50)),\n",
        "        tf.keras.layers.Dense(hidden_dim_1, activation='relu'),\n",
        "        tf.keras.layers.Dense(5, activation='softmax')\n",
        "    ])\n",
        "    model.compile(loss='categorical_crossentropy', optimizer='adam', metrics=['accuracy'])\n",
        "    history = model.fit(X_train_lstm, y_train, validation_data=(X_val_lstm, y_val), epochs=5, verbose=1)\n",
        "    train_accs.append(history.history['accuracy'][-1])\n",
        "    test_accs.append(history.history['val_accuracy'][-1])\n",
        "\n",
        "# Plot the performance metrics as a function of hidden_dim_1\n",
        "plt.plot(neuron_range, train_accs, label='Training Accuracy')\n",
        "plt.plot(neuron_range, test_accs, label='Testing Accuracy')\n",
        "plt.xlabel('Number of Neurons')\n",
        "plt.ylabel('Accuracy')\n",
        "plt.legend()\n",
        "plt.show()\n"
      ],
      "metadata": {
        "colab": {
          "base_uri": "https://localhost:8080/",
          "height": 1459
        },
        "id": "5q19bmJ6GW4a",
        "outputId": "46a022b5-9cbf-4f6b-c965-2a127ebc644c"
      },
      "execution_count": null,
      "outputs": [
        {
          "output_type": "stream",
          "name": "stdout",
          "text": [
            "Epoch 1/5\n",
            "21412/21412 [==============================] - 163s 8ms/step - loss: 1.2063 - accuracy: 0.4742 - val_loss: 1.1853 - val_accuracy: 0.4865\n",
            "Epoch 2/5\n",
            "21412/21412 [==============================] - 157s 7ms/step - loss: 1.1804 - accuracy: 0.4842 - val_loss: 1.1783 - val_accuracy: 0.4882\n",
            "Epoch 3/5\n",
            "21412/21412 [==============================] - 157s 7ms/step - loss: 1.1768 - accuracy: 0.4858 - val_loss: 1.1765 - val_accuracy: 0.4947\n",
            "Epoch 4/5\n",
            "21412/21412 [==============================] - 157s 7ms/step - loss: 1.1750 - accuracy: 0.4864 - val_loss: 1.1748 - val_accuracy: 0.5008\n",
            "Epoch 5/5\n",
            "21412/21412 [==============================] - 159s 7ms/step - loss: 1.1736 - accuracy: 0.4872 - val_loss: 1.1748 - val_accuracy: 0.4950\n",
            "Epoch 1/5\n",
            "21412/21412 [==============================] - 158s 7ms/step - loss: 1.1862 - accuracy: 0.4829 - val_loss: 1.1657 - val_accuracy: 0.5002\n",
            "Epoch 2/5\n",
            "21412/21412 [==============================] - 157s 7ms/step - loss: 1.1630 - accuracy: 0.4920 - val_loss: 1.1615 - val_accuracy: 0.5002\n",
            "Epoch 3/5\n",
            "21412/21412 [==============================] - 157s 7ms/step - loss: 1.1561 - accuracy: 0.4943 - val_loss: 1.1557 - val_accuracy: 0.5017\n",
            "Epoch 4/5\n",
            "21412/21412 [==============================] - 155s 7ms/step - loss: 1.1524 - accuracy: 0.4966 - val_loss: 1.1578 - val_accuracy: 0.5035\n",
            "Epoch 5/5\n",
            "21412/21412 [==============================] - 159s 7ms/step - loss: 1.1501 - accuracy: 0.4976 - val_loss: 1.1544 - val_accuracy: 0.5040\n",
            "Epoch 1/5\n",
            "21412/21412 [==============================] - 160s 7ms/step - loss: 1.1814 - accuracy: 0.4845 - val_loss: 1.1604 - val_accuracy: 0.5015\n",
            "Epoch 2/5\n",
            "21412/21412 [==============================] - 160s 7ms/step - loss: 1.1582 - accuracy: 0.4940 - val_loss: 1.1564 - val_accuracy: 0.5075\n",
            "Epoch 3/5\n",
            "21412/21412 [==============================] - 158s 7ms/step - loss: 1.1517 - accuracy: 0.4968 - val_loss: 1.1543 - val_accuracy: 0.5065\n",
            "Epoch 4/5\n",
            "21412/21412 [==============================] - 158s 7ms/step - loss: 1.1478 - accuracy: 0.4984 - val_loss: 1.1534 - val_accuracy: 0.5085\n",
            "Epoch 5/5\n",
            "21412/21412 [==============================] - 158s 7ms/step - loss: 1.1455 - accuracy: 0.4998 - val_loss: 1.1506 - val_accuracy: 0.5052\n",
            "Epoch 1/5\n",
            "21412/21412 [==============================] - 161s 8ms/step - loss: 1.1788 - accuracy: 0.4851 - val_loss: 1.1607 - val_accuracy: 0.4960\n",
            "Epoch 2/5\n",
            "21412/21412 [==============================] - 158s 7ms/step - loss: 1.1557 - accuracy: 0.4950 - val_loss: 1.1584 - val_accuracy: 0.4935\n",
            "Epoch 3/5\n",
            "21412/21412 [==============================] - 160s 7ms/step - loss: 1.1493 - accuracy: 0.4979 - val_loss: 1.1526 - val_accuracy: 0.5035\n",
            "Epoch 4/5\n",
            "21412/21412 [==============================] - 225s 10ms/step - loss: 1.1459 - accuracy: 0.4987 - val_loss: 1.1500 - val_accuracy: 0.5107\n",
            "Epoch 5/5\n",
            "21412/21412 [==============================] - 194s 9ms/step - loss: 1.1434 - accuracy: 0.5001 - val_loss: 1.1489 - val_accuracy: 0.5050\n",
            "Epoch 1/5\n",
            "21412/21412 [==============================] - 164s 8ms/step - loss: 1.1759 - accuracy: 0.4867 - val_loss: 1.1635 - val_accuracy: 0.4947\n",
            "Epoch 2/5\n",
            "21412/21412 [==============================] - 156s 7ms/step - loss: 1.1541 - accuracy: 0.4954 - val_loss: 1.1536 - val_accuracy: 0.5008\n",
            "Epoch 3/5\n",
            "21412/21412 [==============================] - 154s 7ms/step - loss: 1.1484 - accuracy: 0.4980 - val_loss: 1.1548 - val_accuracy: 0.5010\n",
            "Epoch 4/5\n",
            "21412/21412 [==============================] - 153s 7ms/step - loss: 1.1449 - accuracy: 0.4996 - val_loss: 1.1542 - val_accuracy: 0.5038\n",
            "Epoch 5/5\n",
            "21412/21412 [==============================] - 158s 7ms/step - loss: 1.1421 - accuracy: 0.5005 - val_loss: 1.1504 - val_accuracy: 0.4970\n",
            "Epoch 1/5\n",
            "21412/21412 [==============================] - 160s 7ms/step - loss: 1.1755 - accuracy: 0.4869 - val_loss: 1.1572 - val_accuracy: 0.5010\n",
            "Epoch 2/5\n",
            "21412/21412 [==============================] - 157s 7ms/step - loss: 1.1540 - accuracy: 0.4952 - val_loss: 1.1517 - val_accuracy: 0.5063\n",
            "Epoch 3/5\n",
            "21412/21412 [==============================] - 156s 7ms/step - loss: 1.1479 - accuracy: 0.4983 - val_loss: 1.1497 - val_accuracy: 0.5025\n",
            "Epoch 4/5\n",
            "21412/21412 [==============================] - 159s 7ms/step - loss: 1.1441 - accuracy: 0.5001 - val_loss: 1.1463 - val_accuracy: 0.5050\n",
            "Epoch 5/5\n",
            "21412/21412 [==============================] - 170s 8ms/step - loss: 1.1413 - accuracy: 0.5011 - val_loss: 1.1520 - val_accuracy: 0.5000\n"
          ]
        },
        {
          "output_type": "display_data",
          "data": {
            "text/plain": [
              "<Figure size 640x480 with 1 Axes>"
            ],
            "image/png": "[encoded data removed]"
          },
          "metadata": {}
        }
      ]
    },
    {
      "cell_type": "code",
      "source": [],
      "metadata": {
        "id": "X8Qq-lLZGW6p"
      },
      "execution_count": null,
      "outputs": []
    },
    {
      "cell_type": "code",
      "source": [
        "import tensorflow as tf\n",
        "from tensorflow.keras.layers import Dense, Flatten\n",
        "\n",
        "# Define input shape and output dimension\n",
        "input_shape=(1,50)\n",
        "output_dim = 5\n",
        "\n",
        "# Define hyperparameters\n",
        "hidden_dim_1 = 128\n",
        "hidden_dim_2 = 64\n",
        "num_layers = [4, 5, 6]   # Vary the number of layers\n",
        "activations = ['relu', 'sigmoid', 'tanh']  # Vary the activation functions\n",
        "\n",
        "# Create a function to build the deep NN model\n",
        "def build_model(num_layers, activation):\n",
        "    model = tf.keras.models.Sequential()\n",
        "    model.add(Flatten(input_shape=input_shape))\n",
        "    for i in range(num_layers):\n",
        "        model.add(Dense(hidden_dim_1, activation=activation))\n",
        "    model.add(Dense(output_dim, activation='softmax'))\n",
        "    return model\n",
        "\n",
        "# Train and evaluate the models for different configurations\n",
        "results = []\n",
        "for nl in num_layers:\n",
        "    for act in activations:\n",
        "        model = build_model(nl, act)\n",
        "        model.compile(optimizer='adam', loss='categorical_crossentropy', metrics=['accuracy'])\n",
        "        history = model.fit(X_train_lstm, y_train, epochs=5, validation_data=(X_val_lstm, y_val))\n",
        "        results.append((nl, act, history.history['val_accuracy'][-1]))\n",
        "\n",
        "# Plot the results of adding more layers\n",
        "import matplotlib.pyplot as plt\n",
        "import numpy as np\n",
        "\n",
        "fig, ax = plt.subplots()\n",
        "for act in activations:\n",
        "    y = [r[2] for r in results if r[1] == act]\n",
        "    ax.plot(num_layers, y, label=act)\n",
        "ax.legend()\n",
        "ax.set_xlabel('Number of Layers')\n",
        "ax.set_ylabel('Validation Accuracy')\n",
        "ax.set_title('Effect of Adding More Layers')\n",
        "\n",
        "# Plot the results of different activation functions\n",
        "fig, ax = plt.subplots()\n",
        "y = [r[2] for r in results if r[0] == 4]   # Use 4 layers as an example\n",
        "x_labels = [r[1] for r in results if r[0] ==4 ]\n",
        "ax.bar(x_labels, y)\n",
        "ax.set_xlabel('Activation Functions')\n",
        "ax.set_ylabel('Validation Accuracy')\n",
        "ax.set_title('Effect of Different Activation Functions')\n"
      ],
      "metadata": {
        "colab": {
          "base_uri": "https://localhost:8080/",
          "height": 2509
        },
        "id": "QQV2Wig6GW89",
        "outputId": "58594ad9-8a6b-4be1-fb30-c150c900d58a"
      },
      "execution_count": null,
      "outputs": [
        {
          "output_type": "stream",
          "name": "stdout",
          "text": [
            "Epoch 1/5\n",
            "21412/21412 [==============================] - 86s 4ms/step - loss: 1.1720 - accuracy: 0.4865 - val_loss: 1.1581 - val_accuracy: 0.4935\n",
            "Epoch 2/5\n",
            "21412/21412 [==============================] - 86s 4ms/step - loss: 1.1529 - accuracy: 0.4949 - val_loss: 1.1524 - val_accuracy: 0.5050\n",
            "Epoch 3/5\n",
            "21412/21412 [==============================] - 84s 4ms/step - loss: 1.1467 - accuracy: 0.4975 - val_loss: 1.1481 - val_accuracy: 0.5082\n",
            "Epoch 4/5\n",
            "21412/21412 [==============================] - 81s 4ms/step - loss: 1.1428 - accuracy: 0.4992 - val_loss: 1.1500 - val_accuracy: 0.5055\n",
            "Epoch 5/5\n",
            "21412/21412 [==============================] - 82s 4ms/step - loss: 1.1393 - accuracy: 0.5006 - val_loss: 1.1479 - val_accuracy: 0.5052\n",
            "Epoch 1/5\n",
            "21412/21412 [==============================] - 81s 4ms/step - loss: 1.2347 - accuracy: 0.4586 - val_loss: 1.2140 - val_accuracy: 0.4737\n",
            "Epoch 2/5\n",
            "21412/21412 [==============================] - 82s 4ms/step - loss: 1.1971 - accuracy: 0.4769 - val_loss: 1.1937 - val_accuracy: 0.4850\n",
            "Epoch 3/5\n",
            "21412/21412 [==============================] - 80s 4ms/step - loss: 1.1941 - accuracy: 0.4782 - val_loss: 1.1867 - val_accuracy: 0.4832\n",
            "Epoch 4/5\n",
            "21412/21412 [==============================] - 80s 4ms/step - loss: 1.1905 - accuracy: 0.4796 - val_loss: 1.1827 - val_accuracy: 0.4895\n",
            "Epoch 5/5\n",
            "21412/21412 [==============================] - 80s 4ms/step - loss: 1.1869 - accuracy: 0.4808 - val_loss: 1.1789 - val_accuracy: 0.4843\n",
            "Epoch 1/5\n",
            "21412/21412 [==============================] - 80s 4ms/step - loss: 1.1916 - accuracy: 0.4782 - val_loss: 1.1782 - val_accuracy: 0.4895\n",
            "Epoch 2/5\n",
            "21412/21412 [==============================] - 80s 4ms/step - loss: 1.1767 - accuracy: 0.4846 - val_loss: 1.1765 - val_accuracy: 0.4863\n",
            "Epoch 3/5\n",
            "21412/21412 [==============================] - 79s 4ms/step - loss: 1.1717 - accuracy: 0.4868 - val_loss: 1.1713 - val_accuracy: 0.4882\n",
            "Epoch 4/5\n",
            "21412/21412 [==============================] - 80s 4ms/step - loss: 1.1685 - accuracy: 0.4877 - val_loss: 1.1718 - val_accuracy: 0.4935\n",
            "Epoch 5/5\n",
            "21412/21412 [==============================] - 79s 4ms/step - loss: 1.1661 - accuracy: 0.4892 - val_loss: 1.1664 - val_accuracy: 0.4890\n",
            "Epoch 1/5\n",
            "21412/21412 [==============================] - 88s 4ms/step - loss: 1.1743 - accuracy: 0.4855 - val_loss: 1.1578 - val_accuracy: 0.4940\n",
            "Epoch 2/5\n",
            "21412/21412 [==============================] - 88s 4ms/step - loss: 1.1541 - accuracy: 0.4941 - val_loss: 1.1524 - val_accuracy: 0.4978\n",
            "Epoch 3/5\n",
            "21412/21412 [==============================] - 86s 4ms/step - loss: 1.1483 - accuracy: 0.4968 - val_loss: 1.1583 - val_accuracy: 0.4945\n",
            "Epoch 4/5\n",
            "21412/21412 [==============================] - 84s 4ms/step - loss: 1.1444 - accuracy: 0.4987 - val_loss: 1.1573 - val_accuracy: 0.5010\n",
            "Epoch 5/5\n",
            "21412/21412 [==============================] - 87s 4ms/step - loss: 1.1410 - accuracy: 0.4998 - val_loss: 1.1457 - val_accuracy: 0.5098\n",
            "Epoch 1/5\n",
            "21412/21412 [==============================] - 91s 4ms/step - loss: 1.2593 - accuracy: 0.4471 - val_loss: 1.1967 - val_accuracy: 0.4803\n",
            "Epoch 2/5\n",
            "21412/21412 [==============================] - 89s 4ms/step - loss: 1.1982 - accuracy: 0.4761 - val_loss: 1.1931 - val_accuracy: 0.4832\n",
            "Epoch 3/5\n",
            "21412/21412 [==============================] - 89s 4ms/step - loss: 1.1941 - accuracy: 0.4784 - val_loss: 1.1923 - val_accuracy: 0.4762\n",
            "Epoch 4/5\n",
            "21412/21412 [==============================] - 89s 4ms/step - loss: 1.1909 - accuracy: 0.4793 - val_loss: 1.1848 - val_accuracy: 0.4870\n",
            "Epoch 5/5\n",
            "21412/21412 [==============================] - 88s 4ms/step - loss: 1.1879 - accuracy: 0.4808 - val_loss: 1.1888 - val_accuracy: 0.4803\n",
            "Epoch 1/5\n",
            "21412/21412 [==============================] - 90s 4ms/step - loss: 1.1937 - accuracy: 0.4778 - val_loss: 1.1728 - val_accuracy: 0.4938\n",
            "Epoch 2/5\n",
            "21412/21412 [==============================] - 89s 4ms/step - loss: 1.1787 - accuracy: 0.4840 - val_loss: 1.1693 - val_accuracy: 0.4920\n",
            "Epoch 3/5\n",
            "21412/21412 [==============================] - 88s 4ms/step - loss: 1.1736 - accuracy: 0.4857 - val_loss: 1.1710 - val_accuracy: 0.4895\n",
            "Epoch 4/5\n",
            "21412/21412 [==============================] - 87s 4ms/step - loss: 1.1707 - accuracy: 0.4877 - val_loss: 1.1654 - val_accuracy: 0.4890\n",
            "Epoch 5/5\n",
            "21412/21412 [==============================] - 89s 4ms/step - loss: 1.1684 - accuracy: 0.4884 - val_loss: 1.1707 - val_accuracy: 0.4967\n",
            "Epoch 1/5\n",
            "21412/21412 [==============================] - 108s 5ms/step - loss: 1.1776 - accuracy: 0.4840 - val_loss: 1.1708 - val_accuracy: 0.4972\n",
            "Epoch 2/5\n",
            "21412/21412 [==============================] - 99s 5ms/step - loss: 1.1566 - accuracy: 0.4931 - val_loss: 1.1562 - val_accuracy: 0.4960\n",
            "Epoch 3/5\n",
            "21412/21412 [==============================] - 106s 5ms/step - loss: 1.1497 - accuracy: 0.4964 - val_loss: 1.1523 - val_accuracy: 0.4970\n",
            "Epoch 4/5\n",
            "21412/21412 [==============================] - 100s 5ms/step - loss: 1.1450 - accuracy: 0.4980 - val_loss: 1.1518 - val_accuracy: 0.5015\n",
            "Epoch 5/5\n",
            "21412/21412 [==============================] - 100s 5ms/step - loss: 1.1418 - accuracy: 0.5000 - val_loss: 1.1474 - val_accuracy: 0.5052\n",
            "Epoch 1/5\n",
            "21412/21412 [==============================] - 99s 5ms/step - loss: 1.4410 - accuracy: 0.3447 - val_loss: 1.4334 - val_accuracy: 0.3577\n",
            "Epoch 2/5\n",
            "21412/21412 [==============================] - 98s 5ms/step - loss: 1.4384 - accuracy: 0.3483 - val_loss: 1.4329 - val_accuracy: 0.3577\n",
            "Epoch 3/5\n",
            "21412/21412 [==============================] - 97s 5ms/step - loss: 1.4383 - accuracy: 0.3483 - val_loss: 1.4336 - val_accuracy: 0.3577\n",
            "Epoch 4/5\n",
            "21412/21412 [==============================] - 99s 5ms/step - loss: 1.4384 - accuracy: 0.3483 - val_loss: 1.4336 - val_accuracy: 0.3577\n",
            "Epoch 5/5\n",
            "21412/21412 [==============================] - 99s 5ms/step - loss: 1.4383 - accuracy: 0.3483 - val_loss: 1.4332 - val_accuracy: 0.3577\n",
            "Epoch 1/5\n",
            "21412/21412 [==============================] - 97s 4ms/step - loss: 1.1966 - accuracy: 0.4771 - val_loss: 1.2029 - val_accuracy: 0.4608\n",
            "Epoch 2/5\n",
            "21412/21412 [==============================] - 98s 5ms/step - loss: 1.1816 - accuracy: 0.4831 - val_loss: 1.1757 - val_accuracy: 0.4910\n",
            "Epoch 3/5\n",
            "21412/21412 [==============================] - 97s 5ms/step - loss: 1.1762 - accuracy: 0.4849 - val_loss: 1.1749 - val_accuracy: 0.4902\n",
            "Epoch 4/5\n",
            "21412/21412 [==============================] - 98s 5ms/step - loss: 1.1725 - accuracy: 0.4869 - val_loss: 1.1679 - val_accuracy: 0.4947\n",
            "Epoch 5/5\n",
            "21412/21412 [==============================] - 98s 5ms/step - loss: 1.1700 - accuracy: 0.4875 - val_loss: 1.1703 - val_accuracy: 0.4925\n"
          ]
        },
        {
          "output_type": "execute_result",
          "data": {
            "text/plain": [
              "Text(0.5, 1.0, 'Effect of Different Activation Functions')"
            ]
          },
          "metadata": {},
          "execution_count": 41
        },
        {
          "output_type": "display_data",
          "data": {
            "text/plain": [
              "<Figure size 640x480 with 1 Axes>"
            ],
            "image/png": "[encoded data removed]"
          },
          "metadata": {}
        },
        {
          "output_type": "display_data",
          "data": {
            "text/plain": [
              "<Figure size 640x480 with 1 Axes>"
            ],
            "image/png": "[encoded data removed]"
          },
          "metadata": {}
        }
      ]
    },
    {
      "cell_type": "code",
      "source": [],
      "metadata": {
        "id": "zeOXU9KbGXAZ"
      },
      "execution_count": null,
      "outputs": []
    },
    {
      "cell_type": "code",
      "source": [],
      "metadata": {
        "id": "t3M9J2gKSu6J"
      },
      "execution_count": null,
      "outputs": []
    },
    {
      "cell_type": "code",
      "source": [
        "from tensorflow.keras.models import Sequential\n",
        "from tensorflow.keras.layers import Embedding, GRU, Dense #GRU comprises update and reset gates instead of using input\n",
        "\n",
        "#defining model\n",
        "model = Sequential()\n",
        "\n",
        "# Add the embedding layer\n",
        "\n",
        "#adding GRU layers\n",
        "model.add(GRU(16, activation='relu', return_sequences=True,input_shape=(1,50)))\n",
        "model.add(GRU(32, activation='relu', return_sequences=True))\n",
        "model.add(GRU(64, activation='relu'))\n",
        "\n",
        "#adding the output layer\n",
        "model.add(Dense(5, activation='softmax'))\n",
        "\n",
        "#compiling model\n",
        "model.compile(optimizer='adam', loss='categorical_crossentropy', metrics=['accuracy'])\n",
        "\n",
        "#printing summary of model\n",
        "model.summary()\n",
        "model_GRU=model"
      ],
      "metadata": {
        "colab": {
          "base_uri": "https://localhost:8080/"
        },
        "id": "WzJAzlHxR6CO",
        "outputId": "7cb11e12-cd4b-45cf-8ff2-cdf3c0333f11"
      },
      "execution_count": null,
      "outputs": [
        {
          "output_type": "stream",
          "name": "stdout",
          "text": [
            "Model: \"sequential_23\"\n",
            "_________________________________________________________________\n",
            " Layer (type)                Output Shape              Param #   \n",
            "=================================================================\n",
            " gru (GRU)                   (None, 1, 16)             3264      \n",
            "                                                                 \n",
            " gru_1 (GRU)                 (None, 1, 32)             4800      \n",
            "                                                                 \n",
            " gru_2 (GRU)                 (None, 64)                18816     \n",
            "                                                                 \n",
            " dense_89 (Dense)            (None, 5)                 325       \n",
            "                                                                 \n",
            "=================================================================\n",
            "Total params: 27,205\n",
            "Trainable params: 27,205\n",
            "Non-trainable params: 0\n",
            "_________________________________________________________________\n"
          ]
        }
      ]
    },
    {
      "cell_type": "code",
      "source": [
        "history=model_GRU.fit(X_train_lstm,y_train,epochs=5,validation_data=(X_val_lstm,y_val)) #training GRU model on X_train_lstm and y_train for 7 epochs with validation data"
      ],
      "metadata": {
        "colab": {
          "base_uri": "https://localhost:8080/"
        },
        "id": "WbIVJshXQ08X",
        "outputId": "ba062130-1f34-4ab9-840b-ce10c2a32bf2"
      },
      "execution_count": null,
      "outputs": [
        {
          "output_type": "stream",
          "name": "stdout",
          "text": [
            "Epoch 1/5\n",
            "21412/21412 [==============================] - 164s 7ms/step - loss: 1.1952 - accuracy: 0.4774 - val_loss: 1.1776 - val_accuracy: 0.4882\n",
            "Epoch 2/5\n",
            "21412/21412 [==============================] - 150s 7ms/step - loss: 1.1728 - accuracy: 0.4873 - val_loss: 1.1646 - val_accuracy: 0.4958\n",
            "Epoch 3/5\n",
            "21412/21412 [==============================] - 149s 7ms/step - loss: 1.1681 - accuracy: 0.4890 - val_loss: 1.1618 - val_accuracy: 0.4952\n",
            "Epoch 4/5\n",
            "21412/21412 [==============================] - 149s 7ms/step - loss: 1.1649 - accuracy: 0.4908 - val_loss: 1.1613 - val_accuracy: 0.4947\n",
            "Epoch 5/5\n",
            "21412/21412 [==============================] - 149s 7ms/step - loss: 1.1628 - accuracy: 0.4909 - val_loss: 1.1560 - val_accuracy: 0.4972\n"
          ]
        }
      ]
    },
    {
      "cell_type": "code",
      "source": [
        "df_results = pd.DataFrame({'Training Accuracy': history.history['accuracy'],\n",
        "                   'Testing Accuracy': history.history['val_accuracy'],\n",
        "                   'Training Loss': history.history['loss'],\n",
        "                   'Testing Loss': history.history['val_loss']})\n",
        "\n",
        "#adding the mean and standard deviation to the dataframe\n",
        "mean = df_results.mean()\n",
        "std = df_results.std()\n",
        "\n",
        "#adding the mean and standard deviation as a new row to the dataframe\n",
        "df_results.loc['Mean'] = mean\n",
        "df_results.loc['Std'] = std\n",
        "\n",
        "#displaying dataframe\n",
        "print(df_results)"
      ],
      "metadata": {
        "id": "syu0QJqvYxVK",
        "colab": {
          "base_uri": "https://localhost:8080/"
        },
        "outputId": "4d1c53b6-7863-40f2-fd30-4c18bf45bcdf"
      },
      "execution_count": null,
      "outputs": [
        {
          "output_type": "stream",
          "name": "stdout",
          "text": [
            "      Training Accuracy  Testing Accuracy  Training Loss  Testing Loss\n",
            "0              0.477417          0.488250       1.195196      1.177645\n",
            "1              0.487305          0.495750       1.172829      1.164578\n",
            "2              0.488995          0.495250       1.168115      1.161788\n",
            "3              0.490784          0.494750       1.164925      1.161314\n",
            "4              0.490913          0.497250       1.162762      1.156021\n",
            "Mean           0.487083          0.494250       1.172766      1.164269\n",
            "Std            0.005601          0.003482       0.013098      0.008092\n"
          ]
        }
      ]
    },
    {
      "cell_type": "code",
      "execution_count": null,
      "metadata": {
        "colab": {
          "base_uri": "https://localhost:8080/",
          "height": 927
        },
        "id": "0WIq3KeU6T2H",
        "outputId": "fdaf1d7a-21f3-4363-9143-d9e8befacdf2"
      },
      "outputs": [
        {
          "output_type": "display_data",
          "data": {
            "text/plain": [
              "<Figure size 640x480 with 1 Axes>"
            ],
            "image/png": "[encoded data removed]"
          },
          "metadata": {}
        },
        {
          "output_type": "display_data",
          "data": {
            "text/plain": [
              "<Figure size 640x480 with 1 Axes>"
            ],
            "image/png": "[encoded data removed]"
          },
          "metadata": {}
        }
      ],
      "source": [
        "import numpy as np\n",
        "import pandas as pd\n",
        "import matplotlib.pyplot as plt\n",
        "\n",
        "#defining the function to plot the training and validation metrics\n",
        "def plot_metrics(history):\n",
        "    plt.plot(history.history['loss'])\n",
        "    plt.plot(history.history['val_loss'])\n",
        "    plt.title('Model Loss')                           #plots\n",
        "    plt.ylabel('Loss')                                #loss on y-axis\n",
        "    plt.xlabel('Epoch')                               #epoch on x-axis\n",
        "    plt.legend(['train', 'val'], loc='upper right')\n",
        "    plt.show()\n",
        "\n",
        "    plt.plot(history.history['accuracy'])\n",
        "    plt.plot(history.history['val_accuracy'])\n",
        "    plt.title('Model Accuracy')                       #plots\n",
        "    plt.ylabel('Accuracy')                            #accuracy on y-axis\n",
        "    plt.xlabel('Epoch')                               #epoch on x-axis\n",
        "    plt.legend(['train', 'val'], loc='lower right')\n",
        "    plt.show()\n",
        "\n",
        "plot_metrics(history)"
      ]
    },
    {
      "cell_type": "code",
      "source": [
        "auth.authenticate_user()\n",
        "gauth = GoogleAuth()\n",
        "gauth.credentials = GoogleCredentials.get_application_default()\n",
        "drive = GoogleDrive(gauth)\n",
        "link = 'https://drive.google.com/file/d/1Bkpna7ikaq31wSSHLRnRtP2irZYZvVL6/view?usp=share_link'\n",
        "id = link.split(\"/\")[-2]\n",
        " \n",
        "downloaded = drive.CreateFile({'id':id})\n",
        "downloaded.GetContentFile('my_goodreads_test.csv') \n",
        " \n",
        "df_test= pd.read_csv('my_goodreads_test.csv')\n",
        "print(df)"
      ],
      "metadata": {
        "id": "KLUmBMZcY5t4",
        "colab": {
          "base_uri": "https://localhost:8080/"
        },
        "outputId": "9783629e-e3c2-4399-e80b-979e57a76a81"
      },
      "execution_count": null,
      "outputs": [
        {
          "output_type": "stream",
          "name": "stdout",
          "text": [
            "                                  user_id    book_id  \\\n",
            "0       1da3dcc13cf360b9ecb06251e86237535  182091851   \n",
            "1       1ae436441b6153473ef907aed1006a159    1451461   \n",
            "2       1aa5e9d859b0c0737f4b99a07edf19c88   13483572   \n",
            "3       1940c22aba67c3d49ccd37891c52c9f51  131585171   \n",
            "4       15e03534fccd0e7e1849d712ab9e44342  195643271   \n",
            "...                                   ...        ...   \n",
            "699995  1e40a946995fb1c851b4337d7c3326d0a  137889043   \n",
            "699996  1eeee696a17b2113a5733f5bc1361717d   18920506   \n",
            "699997  1121fa5da3a024775c2d6b3cf4b4098f8  144000061   \n",
            "699998  14761ca19cf5e6ec4d6cea2e9bdae8eed  163023491   \n",
            "699999  1cf32f3e040dc59913c44a5f14780e9d5   11759699   \n",
            "\n",
            "                                review_id  rating  \\\n",
            "0       1c949b5dedf860514ec8b97ad158c9f4f       5   \n",
            "1       112ee86a20d7e4308c0a054f8b03128cd       5   \n",
            "2       1253729b67f301b75a0f26e85f6d6fb31       5   \n",
            "3       1ae0005e94dce0dc5c18d6ae2b4a329ab       4   \n",
            "4       1d8357d2abdcc656635c5459c1feec761       3   \n",
            "...                                   ...     ...   \n",
            "699995  1fb1ef6a5dc6c41b7915907b28b569ac6       4   \n",
            "699996  1496c6c752fa2cd723e911edfe0a06d89       5   \n",
            "699997  13442e5130b646b54af1928cffde23160       5   \n",
            "699998  1ea2879877be71e442ad3ee6d98fbe48a       4   \n",
            "699999  125d4428c76ff4ebf12ef7c055603d1bd       5   \n",
            "\n",
            "                                              review_text  \\\n",
            "0       I thought this was a very good historical fant...   \n",
            "1       Ive had this book recommended to me more than ...   \n",
            "2       Seriously You go and throw that twist into the...   \n",
            "3       Gosh Im still not recovering from the effing C...   \n",
            "4          stars rounded down I cant help it I just do...   \n",
            "...                                                   ...   \n",
            "699995  Beauty of the Beast is a slowburn romance that...   \n",
            "699996  I absolutely hate cliffhangers   Dreamfever su...   \n",
            "699997                                   Actual rating      \n",
            "699998   spoiler alert          Predictable   Im reall...   \n",
            "699999  What a fantastic novel I am not a gamer the on...   \n",
            "\n",
            "                            date_added                    date_updated  \\\n",
            "0       Fri Feb 01 16:44:16 -0800 2013  Tue Oct 25 18:49:25 -0700 2016   \n",
            "1       Sun Nov 08 12:10:16 -0800 2015  Sun Nov 08 12:24:59 -0800 2015   \n",
            "2       Wed Oct 10 02:07:19 -0700 2012  Sat Apr 27 00:40:19 -0700 2013   \n",
            "3       Thu Dec 05 00:45:29 -0800 2013  Thu Dec 05 00:50:17 -0800 2013   \n",
            "4       Wed Mar 15 18:08:14 -0700 2017  Wed Jul 05 12:55:32 -0700 2017   \n",
            "...                                ...                             ...   \n",
            "699995  Tue Jul 04 05:47:24 -0700 2017  Fri Jul 14 01:38:53 -0700 2017   \n",
            "699996  Fri Jan 28 08:34:08 -0800 2011  Wed Apr 06 07:00:15 -0700 2011   \n",
            "699997  Fri Aug 21 14:26:36 -0700 2015  Thu Sep 03 04:23:45 -0700 2015   \n",
            "699998  Wed Jan 01 20:40:03 -0800 2014  Wed Feb 04 14:20:55 -0800 2015   \n",
            "699999  Tue Sep 06 12:17:30 -0700 2011  Sat Sep 10 17:42:22 -0700 2011   \n",
            "\n",
            "                               read_at                      started_at  \\\n",
            "0       Sat May 04 00:00:00 -0700 2013  Thu Apr 25 00:00:00 -0700 2013   \n",
            "1       Tue May 05 00:00:00 -0700 2015  Sun May 03 00:00:00 -0700 2015   \n",
            "2       Sat Apr 27 00:40:19 -0700 2013  Thu Apr 25 00:00:00 -0700 2013   \n",
            "3       Thu Dec 05 00:50:17 -0800 2013  Wed Dec 04 00:00:00 -0800 2013   \n",
            "4       Wed Apr 12 12:17:07 -0700 2017  Tue Apr 11 00:00:00 -0700 2017   \n",
            "...                                ...                             ...   \n",
            "699995  Wed Jul 05 23:12:46 -0700 2017                             NaN   \n",
            "699996  Wed Apr 06 00:00:00 -0700 2011  Tue Apr 05 00:00:00 -0700 2011   \n",
            "699997  Wed Aug 26 03:55:30 -0700 2015  Sat Aug 22 00:00:00 -0700 2015   \n",
            "699998  Wed Jul 30 00:00:00 -0700 2014  Tue Jul 29 00:00:00 -0700 2014   \n",
            "699999  Sat Sep 10 00:00:00 -0700 2011  Tue Sep 06 00:00:00 -0700 2011   \n",
            "\n",
            "        n_votes  n_comments  \n",
            "0             5           6  \n",
            "1             0           0  \n",
            "2             0           0  \n",
            "3             5           0  \n",
            "4             0           0  \n",
            "...         ...         ...  \n",
            "699995        0           0  \n",
            "699996        0           0  \n",
            "699997        2           0  \n",
            "699998        0           0  \n",
            "699999        1           0  \n",
            "\n",
            "[700000 rows x 11 columns]\n"
          ]
        }
      ]
    },
    {
      "cell_type": "code",
      "execution_count": null,
      "metadata": {
        "id": "_q17iKvm2pwe"
      },
      "outputs": [],
      "source": [
        "#training using the LSTM model if you want to run this\n",
        "tfid_matrix_test = vectorizer.transform(df_test['review_text']) #creating a Tfidf matrix from test data reviews"
      ]
    },
    {
      "cell_type": "code",
      "source": [
        "print(tfid_matrix_test) #printing tfidf matrix to test"
      ],
      "metadata": {
        "id": "k84ti2hmkZxx",
        "colab": {
          "base_uri": "https://localhost:8080/"
        },
        "outputId": "79a6bee9-7557-4bcf-b588-fb42f04a03b3"
      },
      "execution_count": null,
      "outputs": [
        {
          "output_type": "stream",
          "name": "stdout",
          "text": [
            "  (0, 537455)\t0.055845778460966854\n",
            "  (0, 533054)\t0.1121291519829232\n",
            "  (0, 492505)\t0.14546076011347744\n",
            "  (0, 490919)\t0.08883470905405359\n",
            "  (0, 484467)\t0.07158312202264037\n",
            "  (0, 476500)\t0.4648906405621071\n",
            "  (0, 470955)\t0.1800958382173912\n",
            "  (0, 456241)\t0.1377515165913999\n",
            "  (0, 454936)\t0.06846737489658289\n",
            "  (0, 453646)\t0.13725053470934598\n",
            "  (0, 421098)\t0.0594898914942439\n",
            "  (0, 415915)\t0.11364603716567459\n",
            "  (0, 415644)\t0.1251984915979144\n",
            "  (0, 401924)\t0.07657630010114191\n",
            "  (0, 388563)\t0.09232074855605882\n",
            "  (0, 388019)\t0.04687828154133226\n",
            "  (0, 362794)\t0.07023492738699783\n",
            "  (0, 361095)\t0.08846122932146679\n",
            "  (0, 348298)\t0.1197180262407003\n",
            "  (0, 343444)\t0.09250408879873893\n",
            "  (0, 314060)\t0.09804185932546192\n",
            "  (0, 310831)\t0.05264319493357202\n",
            "  (0, 278147)\t0.05160545489693473\n",
            "  (0, 274090)\t0.0976993520185538\n",
            "  (0, 271151)\t0.1361752280064136\n",
            "  :\t:\n",
            "  (199999, 364969)\t0.1400174132500063\n",
            "  (199999, 316700)\t0.15834928960814645\n",
            "  (199999, 286129)\t0.08800593309952774\n",
            "  (199999, 285066)\t0.07974159242594396\n",
            "  (199999, 273594)\t0.06434274440250869\n",
            "  (199999, 266288)\t0.23739313486967142\n",
            "  (199999, 255409)\t0.14063597950862894\n",
            "  (199999, 247582)\t0.16336880019808117\n",
            "  (199999, 236087)\t0.11861553476980445\n",
            "  (199999, 231448)\t0.1999695378707866\n",
            "  (199999, 196565)\t0.10933131554624935\n",
            "  (199999, 188856)\t0.05683377987576874\n",
            "  (199999, 177074)\t0.0836907252099344\n",
            "  (199999, 153547)\t0.14566515543941305\n",
            "  (199999, 147970)\t0.10740117770778826\n",
            "  (199999, 143150)\t0.17904651351063394\n",
            "  (199999, 142827)\t0.08841295860169911\n",
            "  (199999, 100462)\t0.11729198572690006\n",
            "  (199999, 97954)\t0.13922029284090476\n",
            "  (199999, 55088)\t0.06889240104812791\n",
            "  (199999, 53883)\t0.12017692252258799\n",
            "  (199999, 42237)\t0.08975089015099234\n",
            "  (199999, 37023)\t0.15995139227027377\n",
            "  (199999, 29798)\t0.12641203815882654\n",
            "  (199999, 3792)\t0.09352134391195292\n"
          ]
        }
      ]
    },
    {
      "cell_type": "code",
      "execution_count": null,
      "metadata": {
        "id": "91Kh3unc2pyy"
      },
      "outputs": [],
      "source": [
        "X_test_svd=svd.transform(csr_matrix(tfid_matrix_test)) #transforming test data using SVD"
      ]
    },
    {
      "cell_type": "code",
      "execution_count": null,
      "metadata": {
        "id": "mpxkAxbJ2zZa"
      },
      "outputs": [],
      "source": [
        "X_test12 = X_test_svd.reshape(X_test_svd.shape[0],1,X_test_svd.shape[1]) #reshaping X_test_svd to 3D array"
      ]
    },
    {
      "cell_type": "code",
      "execution_count": null,
      "metadata": {
        "id": "mNjbtv1Q2zbw",
        "colab": {
          "base_uri": "https://localhost:8080/"
        },
        "outputId": "981a1e01-bd3b-4a88-d9fd-7dbab3b1f2c0"
      },
      "outputs": [
        {
          "output_type": "stream",
          "name": "stdout",
          "text": [
            "6250/6250 [==============================] - 18s 3ms/step\n"
          ]
        }
      ],
      "source": [
        "#we can predict on the test set after reshaping as shown above using the fitted\n",
        "#deep,shallow lstm or gru model\n",
        "#we create a different shape when using the 1d cnn later on in the notebook \n",
        "y_pred=model_GRU.predict(X_test12) #predicting output using GRU model on test data"
      ]
    },
    {
      "cell_type": "code",
      "source": [],
      "metadata": {
        "id": "zD5wZ2y3OaSC"
      },
      "execution_count": null,
      "outputs": []
    },
    {
      "cell_type": "code",
      "source": [],
      "metadata": {
        "id": "dbGJXYD4OaVd"
      },
      "execution_count": null,
      "outputs": []
    },
    {
      "cell_type": "code",
      "execution_count": null,
      "metadata": {
        "id": "03ZfbRP82zd3"
      },
      "outputs": [],
      "source": [
        "y_pred=np.argmax(y_pred, axis=1) #converting y_pred to its highest index position"
      ]
    },
    {
      "cell_type": "code",
      "execution_count": null,
      "metadata": {
        "id": "WVsdt0lw2zf-"
      },
      "outputs": [],
      "source": [
        "y_pred=y_pred.reshape(-1,1) #reshapeing y_pred to a single column"
      ]
    },
    {
      "cell_type": "code",
      "execution_count": null,
      "metadata": {
        "id": "pFky1uPb2zhO"
      },
      "outputs": [],
      "source": [
        "#reversing what we did to predict on the test data\n",
        "y_pred=y_pred+1"
      ]
    },
    {
      "cell_type": "code",
      "execution_count": null,
      "metadata": {
        "id": "tusTSNFi2zjc",
        "colab": {
          "base_uri": "https://localhost:8080/"
        },
        "outputId": "6c8d9fdf-daed-4b91-ccd8-486842bd9854"
      },
      "outputs": [
        {
          "output_type": "execute_result",
          "data": {
            "text/plain": [
              "array([[3],\n",
              "       [5],\n",
              "       [5],\n",
              "       ...,\n",
              "       [4],\n",
              "       [4],\n",
              "       [4]])"
            ]
          },
          "metadata": {},
          "execution_count": 66
        }
      ],
      "source": [
        "y_pred #predicted output or value from a model"
      ]
    },
    {
      "cell_type": "code",
      "execution_count": null,
      "metadata": {
        "id": "6Ph-vST-3Eu_"
      },
      "outputs": [],
      "source": [
        "id=((df_test['review_id']).to_numpy()) #converting review_id column in df_test to numpy array"
      ]
    },
    {
      "cell_type": "code",
      "execution_count": null,
      "metadata": {
        "id": "zkgYO7mv3Exc"
      },
      "outputs": [],
      "source": [
        "id=id.reshape(-1,1) #reshaping id as a single column array"
      ]
    },
    {
      "cell_type": "code",
      "execution_count": null,
      "metadata": {
        "id": "QN9g-Vz83E09"
      },
      "outputs": [],
      "source": [
        "pred=np.column_stack((id,y_pred)) #creating a new array by stacking id and y_pred"
      ]
    },
    {
      "cell_type": "code",
      "execution_count": null,
      "metadata": {
        "id": "5cuyCUkx3Ked"
      },
      "outputs": [],
      "source": [
        "dfpred = pd.DataFrame(pred, columns=['review_id', 'rating']) #creating a pandas DataFrame with columns \"review_id\" and \"rating\", using values from \"pred\""
      ]
    },
    {
      "cell_type": "code",
      "execution_count": null,
      "metadata": {
        "colab": {
          "base_uri": "https://localhost:8080/"
        },
        "id": "V9Emwx3eiurU",
        "outputId": "2ac0492d-c4c0-483b-99b4-730066571242"
      },
      "outputs": [
        {
          "output_type": "stream",
          "name": "stdout",
          "text": [
            "thought good historical fantasy set new york city around though set nyc plot characterbased focusing small cast supporting characters two characters golem jinni nonhuman andor created see fair bit reflection human nature eyes plot little slow could wished slightly stronger writing kept thinking book written like shadow wind guy gavriel kay would blowing socks ill settle good instead author one ill definitely keeping eye\n"
          ]
        },
        {
          "output_type": "execute_result",
          "data": {
            "text/plain": [
              "545554"
            ]
          },
          "metadata": {},
          "execution_count": 71
        }
      ],
      "source": [
        "#we try 1D CNN with GloVe embeddings\n",
        "from tensorflow.keras.preprocessing.text import Tokenizer\n",
        "from tensorflow.keras.preprocessing.sequence import pad_sequences\n",
        "X=df2['review_text']\n",
        "print(X[0])\n",
        "y_val=y_onehot[:4000]\n",
        "X_val=X[:4000]\n",
        "y_train=y_onehot[4000:]\n",
        "X_train=X[4000:]\n",
        "\n",
        "tokenizer = Tokenizer()\n",
        "tokenizer.fit_on_texts(X_train) #fitting tokenizer only on train data\n",
        "\n",
        "#calculating vocabulary size using a tokenizer\n",
        "vocab_size = len(tokenizer.word_index)\n",
        "vocab_size"
      ]
    },
    {
      "cell_type": "code",
      "execution_count": null,
      "metadata": {
        "id": "0Q6ZHf_6iute"
      },
      "outputs": [],
      "source": [
        "#Just to make sure TPU is running\n",
        "try:\n",
        "    tpu = tf.distribute.cluster_resolver.TPUClusterResolver() \n",
        "    tf.config.experimental_connect_to_cluster(tpu)\n",
        "    tf.tpu.experimental.initialize_tpu_system(tpu)\n",
        "    \n",
        "    strategy = tf.distribute.experimental.TPUStrategy\n",
        "except ValueError:\n",
        "    strategy = tf.distribute.get_strategy() \n",
        "    print('Number of replicas:', strategy.num_replicas_in_sync) "
      ]
    },
    {
      "cell_type": "code",
      "execution_count": null,
      "metadata": {
        "colab": {
          "base_uri": "https://localhost:8080/"
        },
        "id": "AZZvlI0Eiuwc",
        "outputId": "f9e5b1dd-e5c2-45a5-f877-d3284399b8d2"
      },
      "outputs": [
        {
          "output_type": "stream",
          "name": "stderr",
          "text": [
            "WARNING:tensorflow:TPU system grpc://10.5.246.234:8470 has already been initialized. Reinitializing the TPU can cause previously created variables on TPU to be lost.\n",
            "WARNING:absl:`tf.distribute.experimental.TPUStrategy` is deprecated, please use  the non experimental symbol `tf.distribute.TPUStrategy` instead.\n"
          ]
        },
        {
          "output_type": "stream",
          "name": "stdout",
          "text": [
            "Running on TPU  ['10.5.246.234:8470']\n",
            "Number of accelerators:  8\n"
          ]
        }
      ],
      "source": [
        "try:\n",
        "    tpu = tf.distribute.cluster_resolver.TPUClusterResolver() # TPU detection\n",
        "except ValueError:\n",
        "    tpu = None\n",
        "    gpus = tf.config.experimental.list_logical_devices(\"GPU\")\n",
        "    \n",
        "#this checks for the presence of a TPU and sets up a distribution strategy accordingly, if a TPU is detected, it initializes the TPU system and sets up a TPUStrategy.\n",
        "#if multiple GPUs are present, it sets up a MirroredStrategy to distribute computation across the GPUs. \n",
        "#if only one GPU is present, it uses the default strategy, if no TPU or GPU is present, it also uses the default strategy, which runs on CPU.\n",
        "#the last line prints the number of replicas being used by the distribution strategy.\n",
        "\n",
        "if tpu:\n",
        "    tf.tpu.experimental.initialize_tpu_system(tpu)\n",
        "    strategy = tf.distribute.experimental.TPUStrategy(tpu,) \n",
        "    print('Running on TPU ', tpu.cluster_spec().as_dict()['worker'])\n",
        "elif len(gpus) > 1:\n",
        "    strategy = tf.distribute.MirroredStrategy([gpu.name for gpu in gpus])\n",
        "    print('Running on multiple GPUs ', [gpu.name for gpu in gpus])\n",
        "elif len(gpus) == 1:\n",
        "    strategy = tf.distribute.get_strategy() \n",
        "    print('Running on single GPU ', gpus[0].name)\n",
        "else:\n",
        "    strategy = tf.distribute.get_strategy() \n",
        "    print('Running on CPU')\n",
        "print(\"Number of accelerators: \", strategy.num_replicas_in_sync)"
      ]
    },
    {
      "cell_type": "code",
      "execution_count": null,
      "metadata": {
        "id": "AB72jXtNiuyE"
      },
      "outputs": [],
      "source": [
        "# we fit the tokenizer only on the train data\n",
        "train_sequence = tokenizer.texts_to_sequences(X_train)"
      ]
    },
    {
      "cell_type": "code",
      "execution_count": null,
      "metadata": {
        "id": "raz1wu-6iuz3"
      },
      "outputs": [],
      "source": [
        "#padding to make sure all the sequences are the same length\n",
        "train_sequence = pad_sequences(train_sequence, maxlen =100, padding = 'post')"
      ]
    },
    {
      "cell_type": "code",
      "execution_count": null,
      "metadata": {
        "id": "DNK7mFPCiu2P"
      },
      "outputs": [],
      "source": [
        "#converting texts to sequences and pad on the validation set\n",
        "tokenizer.fit_on_texts(X_train)\n",
        "\n",
        "val_sequence = tokenizer.texts_to_sequences(X_val)\n",
        "val_sequence = pad_sequences(val_sequence, maxlen = 100, padding = 'post')"
      ]
    },
    {
      "cell_type": "code",
      "execution_count": null,
      "metadata": {
        "id": "cAdp9b2o-7u3",
        "colab": {
          "base_uri": "https://localhost:8080/"
        },
        "outputId": "d4ed6a91-346c-4f12-df89-ef1edb2e60b0"
      },
      "outputs": [
        {
          "output_type": "stream",
          "name": "stdout",
          "text": [
            "/usr/local/lib/python3.9/dist-packages/gdown/cli.py:121: FutureWarning: Option `--id` was deprecated in version 4.3.1 and will be removed in 5.0. You don't need to pass it anymore to use a file ID.\n",
            "  warnings.warn(\n",
            "Downloading...\n",
            "From: https://drive.google.com/uc?id=1qcVVPf5XfzysczVX8ZuvrRFrLgAMjpDc\n",
            "To: /content/glove.6B.50d.txt\n",
            "100% 171M/171M [00:02<00:00, 62.5MB/s]\n"
          ]
        },
        {
          "output_type": "stream",
          "name": "stderr",
          "text": [
            "IOPub data rate exceeded.\n",
            "The notebook server will temporarily stop sending output\n",
            "to the client in order to avoid crashing it.\n",
            "To change this limit, set the config variable\n",
            "`--NotebookApp.iopub_data_rate_limit`.\n",
            "\n",
            "Current values:\n",
            "NotebookApp.iopub_data_rate_limit=1000000.0 (bytes/sec)\n",
            "NotebookApp.rate_limit_window=3.0 (secs)\n",
            "\n"
          ]
        }
      ],
      "source": [
        "#we use the 50 dimension glove embeddings here, there are 50,100,150,200 dimension options\n",
        "#if we lack computing power (which we usually do on google collab unless pro is used) we can\n",
        "#cut the dimensions down to 50 or 100 instead of the 300 shown here\n",
        "\n",
        "\n",
        "embedding_dict={}\n",
        "url='https://drive.google.com/file/d/1qcVVPf5XfzysczVX8ZuvrRFrLgAMjpDc/view?usp=share_link'\n",
        "file_id = url.split('/')[-2]\n",
        "!gdown --id $file_id\n",
        "with open('glove.6B.50d.txt', 'r') as f:\n",
        "    for line in f:\n",
        "        values = line.split()\n",
        "        word = values[0]\n",
        "        vectors = np.asarray(values[1:], 'float32')\n",
        "        embedding_dict[word] = vectors \n",
        "print(embedding_dict)\n",
        "        "
      ]
    },
    {
      "cell_type": "code",
      "execution_count": null,
      "metadata": {
        "id": "ZkX0hlnz-7xm"
      },
      "outputs": [],
      "source": [
        "#creating an embedding matrix \n",
        "vocab_size_glove = vocab_size + 1\n",
        "embedding_matrix = np.zeros((vocab_size_glove, 50)) # glove.6B.300d.txt\n",
        "\n",
        "for word, i in tokenizer.word_index.items():\n",
        "    if i > vocab_size_glove:\n",
        "        continue\n",
        "    \n",
        "    emb_vec = embedding_dict.get(word)\n",
        "    if emb_vec is not None:\n",
        "        embedding_matrix[i] = emb_vec"
      ]
    },
    {
      "cell_type": "code",
      "execution_count": null,
      "metadata": {
        "id": "7AjQYFVw-70J",
        "colab": {
          "base_uri": "https://localhost:8080/"
        },
        "outputId": "f6d15a60-9c15-4f1b-b29d-96b7dd6c3298"
      },
      "outputs": [
        {
          "output_type": "execute_result",
          "data": {
            "text/plain": [
              "(545555, 50)"
            ]
          },
          "metadata": {},
          "execution_count": 79
        }
      ],
      "source": [
        "embedding_matrix.shape #returns the shape of the array"
      ]
    },
    {
      "cell_type": "code",
      "execution_count": null,
      "metadata": {
        "id": "XQw4HYHc-72h",
        "colab": {
          "base_uri": "https://localhost:8080/"
        },
        "outputId": "1045cd4a-227a-4c3e-d3a2-063c36bcc8f3"
      },
      "outputs": [
        {
          "output_type": "execute_result",
          "data": {
            "text/plain": [
              "array([[ 0.        ,  0.        ,  0.        , ...,  0.        ,\n",
              "         0.        ,  0.        ],\n",
              "       [-0.0076543 ,  0.93456   , -0.73189002, ..., -0.089847  ,\n",
              "        -0.27223   , -0.0088736 ],\n",
              "       [ 0.36807999,  0.20834   , -0.22318999, ..., -0.67236   ,\n",
              "        -0.39708999,  0.25183001],\n",
              "       ...,\n",
              "       [ 0.        ,  0.        ,  0.        , ...,  0.        ,\n",
              "         0.        ,  0.        ],\n",
              "       [ 0.        ,  0.        ,  0.        , ...,  0.        ,\n",
              "         0.        ,  0.        ],\n",
              "       [ 0.        ,  0.        ,  0.        , ...,  0.        ,\n",
              "         0.        ,  0.        ]])"
            ]
          },
          "metadata": {},
          "execution_count": 80
        }
      ],
      "source": [
        "embedding_matrix #maps words or other discrete entities"
      ]
    },
    {
      "cell_type": "code",
      "execution_count": null,
      "metadata": {
        "id": "Yot2fnvW-75W"
      },
      "outputs": [],
      "source": [
        "from tensorflow.keras import Sequential\n",
        "from tensorflow.keras.layers import Dense, Dropout, Conv1D, MaxPooling1D, Embedding, GlobalMaxPooling1D, Flatten\n",
        "from tensorflow.keras.initializers import Constant #used as a baseline or reference point that doesn't change during the learning process\n",
        "from tensorflow.keras.optimizers import Adam\n",
        "from tensorflow.keras import regularizers"
      ]
    },
    {
      "cell_type": "code",
      "execution_count": null,
      "metadata": {
        "id": "yNqPNbf_-781",
        "colab": {
          "base_uri": "https://localhost:8080/"
        },
        "outputId": "0daacd6c-d5b0-441c-e6a5-ae258ed430f1"
      },
      "outputs": [
        {
          "output_type": "stream",
          "name": "stdout",
          "text": [
            "Model: \"sequential_33\"\n",
            "_________________________________________________________________\n",
            " Layer (type)                Output Shape              Param #   \n",
            "=================================================================\n",
            " embedding_1 (Embedding)     (None, 100, 50)           27277750  \n",
            "                                                                 \n",
            " conv1d_6 (Conv1D)           (None, 100, 64)           9664      \n",
            "                                                                 \n",
            " conv1d_7 (Conv1D)           (None, 100, 64)           12352     \n",
            "                                                                 \n",
            " max_pooling1d_3 (MaxPooling  (None, 50, 64)           0         \n",
            " 1D)                                                             \n",
            "                                                                 \n",
            " dropout_5 (Dropout)         (None, 50, 64)            0         \n",
            "                                                                 \n",
            " conv1d_8 (Conv1D)           (None, 50, 128)           41088     \n",
            "                                                                 \n",
            " conv1d_9 (Conv1D)           (None, 50, 128)           82048     \n",
            "                                                                 \n",
            " max_pooling1d_4 (MaxPooling  (None, 16, 128)          0         \n",
            " 1D)                                                             \n",
            "                                                                 \n",
            " dropout_6 (Dropout)         (None, 16, 128)           0         \n",
            "                                                                 \n",
            " conv1d_10 (Conv1D)          (None, 16, 128)           82048     \n",
            "                                                                 \n",
            " conv1d_11 (Conv1D)          (None, 16, 128)           82048     \n",
            "                                                                 \n",
            " max_pooling1d_5 (MaxPooling  (None, 5, 128)           0         \n",
            " 1D)                                                             \n",
            "                                                                 \n",
            " dropout_7 (Dropout)         (None, 5, 128)            0         \n",
            "                                                                 \n",
            " global_max_pooling1d_1 (Glo  (None, 128)              0         \n",
            " balMaxPooling1D)                                                \n",
            "                                                                 \n",
            " dense_108 (Dense)           (None, 32)                4128      \n",
            "                                                                 \n",
            " dropout_8 (Dropout)         (None, 32)                0         \n",
            "                                                                 \n",
            " dense_109 (Dense)           (None, 5)                 165       \n",
            "                                                                 \n",
            "=================================================================\n",
            "Total params: 27,591,291\n",
            "Trainable params: 313,541\n",
            "Non-trainable params: 27,277,750\n",
            "_________________________________________________________________\n"
          ]
        }
      ],
      "source": [
        "#Conv1D: preprocessing of 1D sedquential data, \n",
        "#MaxPooling: down-sampling feature maps, to reduce spatial dimensionality of an input, \n",
        "#Flatten: converts multidimensional array into 1D array\n",
        "\n",
        "#using pretrained embeddings\n",
        "model=Sequential()\n",
        "model.add(Embedding(vocab_size_glove,\n",
        "                   50, input_length=100,\n",
        "                   embeddings_initializer=Constant(embedding_matrix),trainable=False))\n",
        "model.add(Conv1D(64, 3, activation='relu', padding='same'))\n",
        "model.add(Conv1D(64,3,activation='relu',padding='same'))\n",
        "model.add(MaxPooling1D(2))\n",
        "model.add(Dropout(0.3))\n",
        "\n",
        "model.add(Conv1D(128, 5, activation='relu', padding='same'))\n",
        "model.add(Conv1D(128,5,activation='relu',padding='same'))\n",
        "model.add(MaxPooling1D(3))\n",
        "model.add(Dropout(0.3))\n",
        "\n",
        "model.add(Conv1D(128, 5, activation='relu', padding='same'))\n",
        "model.add(Conv1D(128,5,activation='relu',padding='same'))\n",
        "model.add(MaxPooling1D(3))\n",
        "model.add(Dropout(0.3))\n",
        "\n",
        "model.add(GlobalMaxPooling1D())\n",
        "model.add(Dense(32, activation='relu'))\n",
        "model.add(Dropout(0.2))\n",
        "model.add(Dense(5, activation = 'softmax'))\n",
        "\n",
        "model.compile(Adam(learning_rate = 1e-3),\n",
        "              loss = 'categorical_crossentropy', \n",
        "              metrics=['accuracy'])\n",
        "\n",
        "model.summary()\n",
        "model_cnn=model"
      ]
    },
    {
      "cell_type": "code",
      "execution_count": null,
      "metadata": {
        "id": "4qfzIYnl-7_h",
        "colab": {
          "base_uri": "https://localhost:8080/"
        },
        "outputId": "04993c46-60ea-4ee2-b793-b8d7f89074c6"
      },
      "outputs": [
        {
          "output_type": "stream",
          "name": "stdout",
          "text": [
            "Epoch 1/5\n",
            "5353/5353 [==============================] - 188s 35ms/step - loss: 1.1547 - accuracy: 0.4922 - val_loss: 1.1365 - val_accuracy: 0.5058\n",
            "Epoch 2/5\n",
            "5353/5353 [==============================] - 188s 35ms/step - loss: 1.1432 - accuracy: 0.4979 - val_loss: 1.1366 - val_accuracy: 0.4972\n",
            "Epoch 3/5\n",
            "5353/5353 [==============================] - 189s 35ms/step - loss: 1.1351 - accuracy: 0.5014 - val_loss: 1.1185 - val_accuracy: 0.5170\n",
            "Epoch 4/5\n",
            "5353/5353 [==============================] - 188s 35ms/step - loss: 1.1277 - accuracy: 0.5054 - val_loss: 1.1189 - val_accuracy: 0.5070\n",
            "Epoch 5/5\n",
            "5353/5353 [==============================] - 188s 35ms/step - loss: 1.1227 - accuracy: 0.5077 - val_loss: 1.1161 - val_accuracy: 0.5145\n"
          ]
        }
      ],
      "source": [
        "#training history with 5 epochs, 128 batch size, validation\n",
        "history = model_cnn.fit(train_sequence,\n",
        "                   y_train,\n",
        "                   batch_size=128,\n",
        "                   epochs=5,validation_data=(val_sequence,y_val))"
      ]
    },
    {
      "cell_type": "code",
      "source": [
        "df_results = pd.DataFrame({'Training Accuracy': history.history['accuracy'],\n",
        "                   'Testing Accuracy': history.history['val_accuracy'],\n",
        "                   'Training Loss': history.history['loss'],\n",
        "                   'Testing Loss': history.history['val_loss']})\n",
        "\n",
        "#adding mean and standard deviation to the dataframe\n",
        "mean = df_results.mean()\n",
        "std = df_results.std()\n",
        "\n",
        "#adding mean and standard deviation as a new row to the dataframe\n",
        "df_results.loc['Mean'] = mean\n",
        "df_results.loc['Std'] = std\n",
        "\n",
        "#displaying dataframe\n",
        "print(df_results)"
      ],
      "metadata": {
        "id": "y0KygipadEYk",
        "colab": {
          "base_uri": "https://localhost:8080/"
        },
        "outputId": "82ebea60-7afb-412a-8b5c-8dfb5248b590"
      },
      "execution_count": null,
      "outputs": [
        {
          "output_type": "stream",
          "name": "stdout",
          "text": [
            "      Training Accuracy  Testing Accuracy  Training Loss  Testing Loss\n",
            "0              0.492201          0.505750       1.154658      1.136512\n",
            "1              0.497924          0.497250       1.143198      1.136556\n",
            "2              0.501397          0.517000       1.135075      1.118506\n",
            "3              0.505420          0.507000       1.127749      1.118911\n",
            "4              0.507735          0.514500       1.122696      1.116099\n",
            "Mean           0.500935          0.508300       1.136675      1.125317\n",
            "Std            0.006163          0.007817       0.012685      0.010296\n"
          ]
        }
      ]
    },
    {
      "cell_type": "code",
      "execution_count": null,
      "metadata": {
        "id": "lMCSIsaLXpks",
        "colab": {
          "base_uri": "https://localhost:8080/",
          "height": 927
        },
        "outputId": "443f5b86-3fa4-4e14-f932-4b6e587835d0"
      },
      "outputs": [
        {
          "output_type": "display_data",
          "data": {
            "text/plain": [
              "<Figure size 640x480 with 1 Axes>"
            ],
            "image/png": "[encoded data removed]"
          },
          "metadata": {}
        },
        {
          "output_type": "display_data",
          "data": {
            "text/plain": [
              "<Figure size 640x480 with 1 Axes>"
            ],
            "image/png": "[encoded data removed]"
          },
          "metadata": {}
        }
      ],
      "source": [
        "def plot_metrics(history, metric):\n",
        "    plt.plot(history.history[metric])\n",
        "    plt.plot(history.history['val_' + metric])\n",
        "    plt.title('Model ' + metric)\n",
        "    plt.ylabel(metric)\n",
        "    plt.xlabel('Epoch')\n",
        "    plt.legend(['train', 'val'], loc='upper right')\n",
        "    plt.show()\n",
        "\n",
        "#plotting training and validation loss against the epochs\n",
        "plot_metrics(history, 'loss')\n",
        "\n",
        "# plotting training and validation accuracy against the epochs\n",
        "plot_metrics(history, 'accuracy')\n",
        "\n"
      ]
    },
    {
      "cell_type": "code",
      "execution_count": null,
      "metadata": {
        "id": "lB0RB4Ff-8B3",
        "colab": {
          "base_uri": "https://localhost:8080/"
        },
        "outputId": "0e2668fc-6572-49e9-fa5b-cb9f4244e6d7"
      },
      "outputs": [
        {
          "output_type": "stream",
          "name": "stdout",
          "text": [
            "        Unnamed: 0                            user_id    book_id  \\\n",
            "0             2212  11f7623a30dd3f47258dd9a4c806f6850   10439467   \n",
            "1           655187  1b700c4dfcecf272a3d18fea04d1a7f3a     129377   \n",
            "2           483724  1ad43768c54d2c2c2da810cbf052a3fff  176699581   \n",
            "3           322858  1f9214ec05446de0b96d8fe550d994baf   17792372   \n",
            "4           393932  1071b2047c229084b25a0e1fd51e0c698   18499966   \n",
            "...            ...                                ...        ...   \n",
            "199995      865422  180e9adfbe8457960da3356a9d0a75cbe  112558842   \n",
            "199996      237115  126a91e8c3a9507dfa6edc5ce7decc947   17542448   \n",
            "199997      868869  1e89e6cc6a7c3924c8899957021861b39   11069568   \n",
            "199998      651403  1a694003933611f14bef5b88383907b88   16024571   \n",
            "199999      742558  1c169ccef89607b6d19571e2b65447f83   19383993   \n",
            "\n",
            "                                review_id  \\\n",
            "0       16c32b9bb0142734c60f8b028f281c5dd   \n",
            "1       1f86ec340856f1097c922d33aed48d4ea   \n",
            "2       14a20b34f27611e45bd75e24de6a06324   \n",
            "3       1b2e5b069e4f440d152ae6d48e3f111ac   \n",
            "4       132aec4dfb13a2f8032a7431023dd728f   \n",
            "...                                   ...   \n",
            "199995  1e65b0ab60fb0fc5361da7c3a7a45bc2a   \n",
            "199996  176c31b9581191138cc477b0df2f82b09   \n",
            "199997  17af2bb1902e2b7f6a5004e7bbe285139   \n",
            "199998  1e13fa3ce7e49dfd190bd0a02c36efe61   \n",
            "199999  15f7e3747bb4b66f81c14a42a8d6e2403   \n",
            "\n",
            "                                              review_text  \\\n",
            "0       3-3.5 stars \\n While I liked it, I didn't love...   \n",
            "1       First, I must fangirl over the ending. *OMG FA...   \n",
            "2       Somewhere between 4 and 5 - really loved this ...   \n",
            "3       I'll admit it - I was not expecting to enjoy t...   \n",
            "4       Book #25 of 2011 \\n I didn't read the accompyi...   \n",
            "...                                                   ...   \n",
            "199995  ** sp01l3r al3rt ** \\n I reeeeeally liked CoLS...   \n",
            "199996  I do like this book, although, like many other...   \n",
            "199997  Eh. Read my full review at http://yalitwit.blo...   \n",
            "199998  I really liked this book! I was angry with som...   \n",
            "199999  This is a ridiculously fun book. The action is...   \n",
            "\n",
            "                            date_added                    date_updated  \\\n",
            "0       Wed Oct 17 11:33:43 -0700 2012  Fri Feb 24 20:18:32 -0800 2017   \n",
            "1       Mon Mar 02 14:15:20 -0800 2015  Thu Jul 21 11:27:01 -0700 2016   \n",
            "2       Fri Oct 11 06:44:58 -0700 2013  Sun Aug 03 06:38:24 -0700 2014   \n",
            "3       Sat Apr 05 00:27:42 -0700 2014  Thu Apr 13 16:46:04 -0700 2017   \n",
            "4       Mon Mar 07 15:06:31 -0800 2011  Mon Mar 07 15:12:36 -0800 2011   \n",
            "...                                ...                             ...   \n",
            "199995  Fri Apr 15 17:08:03 -0700 2016  Sat Apr 23 06:16:21 -0700 2016   \n",
            "199996  Wed Jan 09 08:05:03 -0800 2013  Fri Feb 15 06:17:24 -0800 2013   \n",
            "199997  Sun Dec 12 16:57:39 -0800 2010  Fri Oct 14 08:45:05 -0700 2011   \n",
            "199998  Tue Feb 21 17:15:52 -0800 2017  Wed Sep 27 08:03:28 -0700 2017   \n",
            "199999  Thu May 02 15:59:02 -0700 2013  Mon May 20 10:03:46 -0700 2013   \n",
            "\n",
            "                               read_at                      started_at  \\\n",
            "0       Fri Feb 12 06:19:31 -0800 2016  Sat Feb 06 00:00:00 -0800 2016   \n",
            "1       Wed Apr 29 00:00:00 -0700 2015  Mon Apr 27 00:00:00 -0700 2015   \n",
            "2       Wed May 07 00:00:00 -0700 2014                             NaN   \n",
            "3       Mon Nov 23 03:44:34 -0800 2015  Thu Nov 05 00:00:00 -0800 2015   \n",
            "4       Tue Mar 01 00:00:00 -0800 2011                             NaN   \n",
            "...                                ...                             ...   \n",
            "199995  Fri Apr 22 00:00:00 -0700 2016  Tue Apr 19 00:00:00 -0700 2016   \n",
            "199996  Fri Feb 15 06:17:24 -0800 2013  Tue Jan 29 00:00:00 -0800 2013   \n",
            "199997  Sat Sep 17 00:00:00 -0700 2011  Fri Sep 09 00:00:00 -0700 2011   \n",
            "199998  Wed Sep 27 08:03:28 -0700 2017  Sat Sep 23 00:00:00 -0700 2017   \n",
            "199999  Mon Apr 01 00:00:00 -0700 2013                             NaN   \n",
            "\n",
            "        n_votes  n_comments  \n",
            "0             1           0  \n",
            "1             0           0  \n",
            "2             1           0  \n",
            "3             0           0  \n",
            "4             0           0  \n",
            "...         ...         ...  \n",
            "199995        0           0  \n",
            "199996        0           0  \n",
            "199997        0           2  \n",
            "199998        2           0  \n",
            "199999        0           0  \n",
            "\n",
            "[200000 rows x 11 columns]\n"
          ]
        }
      ],
      "source": [
        "#executing the same preprocess done before\n",
        "auth.authenticate_user()\n",
        "gauth = GoogleAuth()\n",
        "gauth.credentials = GoogleCredentials.get_application_default()\n",
        "drive = GoogleDrive(gauth)\n",
        "link = 'https://drive.google.com/file/d/1Bkpna7ikaq31wSSHLRnRtP2irZYZvVL6/view?usp=share_link'\n",
        "id = link.split(\"/\")[-2]\n",
        " \n",
        "downloaded = drive.CreateFile({'id':id})\n",
        "downloaded.GetContentFile('my_goodreads_test.csv') \n",
        " \n",
        "df_test= pd.read_csv('my_goodreads_test.csv')\n",
        "print(df_test)"
      ]
    },
    {
      "cell_type": "code",
      "execution_count": null,
      "metadata": {
        "id": "lcluopIh2WKJ"
      },
      "outputs": [],
      "source": [
        "STOPWORDS = set(stopwords.words('english'))\n",
        "def remove_stopwords(text):\n",
        "    \"\"\"custom function to remove the stopwords\"\"\"\n",
        "    return \" \".join([word for word in str(text).split() if word not in STOPWORDS])\n",
        "\n",
        "df_test[\"review_text\"] = df_test[\"review_text\"].apply(lambda text: remove_stopwords(text))\n"
      ]
    },
    {
      "cell_type": "code",
      "execution_count": null,
      "metadata": {
        "id": "L-98G81S2WMU"
      },
      "outputs": [],
      "source": [
        "df_test['review_text']=df_test['review_text'].apply(lambda z: remove(z))"
      ]
    },
    {
      "cell_type": "code",
      "execution_count": null,
      "metadata": {
        "id": "I7929cDa2WOk"
      },
      "outputs": [],
      "source": [
        "import re\n",
        "def remove_urls(text):\n",
        "    url = re.compile(r'https\\S+')\n",
        "    return url.sub(r' ',text)"
      ]
    },
    {
      "cell_type": "code",
      "execution_count": null,
      "metadata": {
        "id": "w0zRS-852WQ7"
      },
      "outputs": [],
      "source": [
        "df_test['review_text']=df_test['review_text'].apply(lambda z: remove_urls(z))"
      ]
    },
    {
      "cell_type": "code",
      "execution_count": null,
      "metadata": {
        "id": "6MQu5Bpl2WUl"
      },
      "outputs": [],
      "source": [
        "def remove_punctuations(data):\n",
        "    punct_tag=re.compile(r'[^\\w\\s]')\n",
        "    data=punct_tag.sub(r'',data)\n",
        "    return data\n",
        "df_test['review_text']=df_test['review_text'].apply(lambda z: remove_punctuations(z))\n"
      ]
    },
    {
      "cell_type": "code",
      "execution_count": null,
      "metadata": {
        "id": "dCBDES1a2eYT"
      },
      "outputs": [],
      "source": [
        "df_test['review_text']=df_test['review_text'].apply(lambda z: z.lower())"
      ]
    },
    {
      "cell_type": "code",
      "execution_count": null,
      "metadata": {
        "id": "cxM4571n2eaU"
      },
      "outputs": [],
      "source": [
        "def remove_non_alpha(text):\n",
        "    alpha=re.compile(r'[^a-zA-Z]')\n",
        "    return alpha.sub(r' ',text)"
      ]
    },
    {
      "cell_type": "code",
      "execution_count": null,
      "metadata": {
        "id": "3URdIo6R2ecj"
      },
      "outputs": [],
      "source": [
        "df_test['review_text']=df_test['review_text'].apply(lambda z: remove_non_alpha(z))"
      ]
    },
    {
      "cell_type": "code",
      "execution_count": null,
      "metadata": {
        "id": "JbpbM-502eej"
      },
      "outputs": [],
      "source": [
        "def remove_spoiler_alert(text):\n",
        "    return re.sub(r'(\\(view spoiler\\).*?\\(hide spoiler\\))','',text)"
      ]
    },
    {
      "cell_type": "code",
      "execution_count": null,
      "metadata": {
        "id": "r096ZeJf2ehR"
      },
      "outputs": [],
      "source": [
        "df_test['review_text']=df_test['review_text'].apply(lambda z: remove_spoiler_alert(z))"
      ]
    },
    {
      "cell_type": "code",
      "execution_count": null,
      "metadata": {
        "id": "8K_zOoTU2ekg"
      },
      "outputs": [],
      "source": [
        "X_test=df_test['review_text']"
      ]
    },
    {
      "cell_type": "code",
      "execution_count": null,
      "metadata": {
        "id": "U_nCdBsW2prk"
      },
      "outputs": [],
      "source": [
        "tokenizer.fit_on_texts(X_train)\n",
        "\n",
        "test_sequence = tokenizer.texts_to_sequences(X_test)\n",
        "test_sequence = pad_sequences(test_sequence, maxlen = 100, padding = 'post')\n"
      ]
    },
    {
      "cell_type": "code",
      "execution_count": null,
      "metadata": {
        "id": "m87YGpzr30JS",
        "colab": {
          "base_uri": "https://localhost:8080/"
        },
        "outputId": "487f9126-d988-4629-9523-b1c2bd94d944"
      },
      "outputs": [
        {
          "output_type": "stream",
          "name": "stdout",
          "text": [
            "6250/6250 [==============================] - 58s 9ms/step\n"
          ]
        }
      ],
      "source": [
        "y_pred=model_cnn.predict(test_sequence) #predicting for the given test data"
      ]
    },
    {
      "cell_type": "code",
      "source": [
        "y_pred=np.argmax(y_pred, axis=1) #converting y_pred to its highest index position"
      ],
      "metadata": {
        "id": "zvP9mbIb_WsM"
      },
      "execution_count": null,
      "outputs": []
    },
    {
      "cell_type": "code",
      "source": [
        "y_pred=y_pred.reshape(-1,1)"
      ],
      "metadata": {
        "id": "9t8y3bZRAJWG"
      },
      "execution_count": null,
      "outputs": []
    },
    {
      "cell_type": "code",
      "execution_count": null,
      "metadata": {
        "id": "k4-CKIoX30Lp"
      },
      "outputs": [],
      "source": [
        "y_pred=y_pred+1 #adding 1 which was substracted previously"
      ]
    },
    {
      "cell_type": "code",
      "execution_count": null,
      "metadata": {
        "id": "DRTB2FxM30OR",
        "colab": {
          "base_uri": "https://localhost:8080/"
        },
        "outputId": "bb82bdf6-e39c-484a-8f7b-472d185f3b72"
      },
      "outputs": [
        {
          "output_type": "execute_result",
          "data": {
            "text/plain": [
              "array([[4],\n",
              "       [5],\n",
              "       [5],\n",
              "       ...,\n",
              "       [3],\n",
              "       [4],\n",
              "       [4]])"
            ]
          },
          "metadata": {},
          "execution_count": 177
        }
      ],
      "source": [
        "y_pred"
      ]
    },
    {
      "cell_type": "code",
      "execution_count": null,
      "metadata": {
        "id": "QN8O3OT630QJ"
      },
      "outputs": [],
      "source": [
        "id=((df_test['review_id']).to_numpy())"
      ]
    },
    {
      "cell_type": "code",
      "execution_count": null,
      "metadata": {
        "id": "mjBih-Ye30Se",
        "colab": {
          "base_uri": "https://localhost:8080/"
        },
        "outputId": "197e0018-208e-46eb-ff1d-00ce0f8749e0"
      },
      "outputs": [
        {
          "output_type": "execute_result",
          "data": {
            "text/plain": [
              "(200000,)"
            ]
          },
          "metadata": {},
          "execution_count": 179
        }
      ],
      "source": [
        "id.shape"
      ]
    },
    {
      "cell_type": "code",
      "execution_count": null,
      "metadata": {
        "id": "2BizvfhF30Ui"
      },
      "outputs": [],
      "source": [
        "id=id.reshape(-1,1)"
      ]
    },
    {
      "cell_type": "code",
      "execution_count": null,
      "metadata": {
        "id": "4S2qnpWhRNIq"
      },
      "outputs": [],
      "source": [
        "pred=np.column_stack((id,y_pred))"
      ]
    },
    {
      "cell_type": "code",
      "source": [
        "pred"
      ],
      "metadata": {
        "colab": {
          "base_uri": "https://localhost:8080/"
        },
        "id": "TetTmzeW_MR9",
        "outputId": "59a6ea53-4a5e-4ca5-95db-d00b7590fb0b"
      },
      "execution_count": null,
      "outputs": [
        {
          "output_type": "execute_result",
          "data": {
            "text/plain": [
              "array([['16c32b9bb0142734c60f8b028f281c5dd', 4],\n",
              "       ['1f86ec340856f1097c922d33aed48d4ea', 5],\n",
              "       ['14a20b34f27611e45bd75e24de6a06324', 5],\n",
              "       ...,\n",
              "       ['17af2bb1902e2b7f6a5004e7bbe285139', 3],\n",
              "       ['1e13fa3ce7e49dfd190bd0a02c36efe61', 4],\n",
              "       ['15f7e3747bb4b66f81c14a42a8d6e2403', 4]], dtype=object)"
            ]
          },
          "metadata": {},
          "execution_count": 182
        }
      ]
    },
    {
      "cell_type": "code",
      "execution_count": null,
      "metadata": {
        "id": "bR0UqM13RNLZ"
      },
      "outputs": [],
      "source": [
        "dfpred = pd.DataFrame(pred, columns=['review_id', 'rating'])"
      ]
    },
    {
      "cell_type": "code",
      "source": [
        "dfpred['rating'].value_counts()"
      ],
      "metadata": {
        "colab": {
          "base_uri": "https://localhost:8080/"
        },
        "id": "M4v_IGI7INm0",
        "outputId": "e103b992-6330-4c30-eddb-73dd541d2447"
      },
      "execution_count": null,
      "outputs": [
        {
          "output_type": "execute_result",
          "data": {
            "text/plain": [
              "4    97762\n",
              "5    60065\n",
              "3    34260\n",
              "1     5733\n",
              "2     2180\n",
              "Name: rating, dtype: int64"
            ]
          },
          "metadata": {},
          "execution_count": 184
        }
      ]
    },
    {
      "cell_type": "code",
      "execution_count": null,
      "metadata": {
        "id": "e1x7b-T_RNNi"
      },
      "outputs": [],
      "source": [
        "dfpred.to_csv('predictionsgoodread_glove.csv', index=False) #exporting csv file to upload in Kaggle"
      ]
    }
  ],
  "metadata": {
    "accelerator": "TPU",
    "colab": {
      "provenance": [],
      "machine_shape": "hm"
    },
    "gpuClass": "standard",
    "kernelspec": {
      "display_name": "Python 3",
      "name": "python3"
    },
    "language_info": {
      "name": "python"
    }
  },
  "nbformat": 4,
  "nbformat_minor": 0
}